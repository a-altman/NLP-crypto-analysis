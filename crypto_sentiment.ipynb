{
 "cells": [
  {
   "cell_type": "markdown",
   "metadata": {},
   "source": [
    "# Unit 12 - Tales from the Crypto\n",
    "\n",
    "---\n"
   ]
  },
  {
   "cell_type": "markdown",
   "metadata": {},
   "source": [
    "## 1. Sentiment Analysis\n",
    "\n",
    "Use the [newsapi](https://newsapi.org/) to pull the latest news articles for Bitcoin and Ethereum and create a DataFrame of sentiment scores for each coin.\n",
    "\n",
    "Use descriptive statistics to answer the following questions:\n",
    "1. Which coin had the highest mean positive score?\n",
    "2. Which coin had the highest negative score?\n",
    "3. Which coin had the highest positive score?"
   ]
  },
  {
   "cell_type": "code",
   "execution_count": 117,
   "metadata": {},
   "outputs": [
    {
     "name": "stderr",
     "output_type": "stream",
     "text": [
      "[nltk_data] Downloading package vader_lexicon to\n",
      "[nltk_data]     C:\\Users\\altma\\AppData\\Roaming\\nltk_data...\n",
      "[nltk_data]   Package vader_lexicon is already up-to-date!\n"
     ]
    }
   ],
   "source": [
    "# Initial imports\n",
    "import os\n",
    "import pandas as pd\n",
    "from dotenv import load_dotenv\n",
    "import nltk as nltk\n",
    "nltk.download('vader_lexicon')\n",
    "from nltk.sentiment.vader import SentimentIntensityAnalyzer\n",
    "from newsapi import NewsApiClient\n",
    "analyzer = SentimentIntensityAnalyzer()\n",
    "\n",
    "%matplotlib inline"
   ]
  },
  {
   "cell_type": "code",
   "execution_count": 118,
   "metadata": {},
   "outputs": [],
   "source": [
    "# Read your api key environment variable\n",
    "load_dotenv()\n",
    "\n",
    "news_api_key = os.getenv(\"NEWS_API_KEY\")"
   ]
  },
  {
   "cell_type": "code",
   "execution_count": 119,
   "metadata": {},
   "outputs": [],
   "source": [
    "# Create a newsapi client\n",
    "newsapi = NewsApiClient(api_key=news_api_key)"
   ]
  },
  {
   "cell_type": "code",
   "execution_count": 120,
   "metadata": {},
   "outputs": [],
   "source": [
    "# Fetch the Bitcoin news articles\n",
    "btc_articles = newsapi.get_everything(\n",
    "    q=\"Bitcoin\",\n",
    "    language=\"en\",\n",
    "    sort_by=\"relevancy\"\n",
    ")"
   ]
  },
  {
   "cell_type": "code",
   "execution_count": 121,
   "metadata": {},
   "outputs": [],
   "source": [
    "# Fetch the Ethereum news articles\n",
    "eth_articles = newsapi.get_everything(\n",
    "    q=\"Ethereum\",\n",
    "    language=\"en\",\n",
    "    sort_by=\"relevancy\"\n",
    ")"
   ]
  },
  {
   "cell_type": "code",
   "execution_count": 122,
   "metadata": {},
   "outputs": [
    {
     "data": {
      "text/plain": [
       "{'source': {'id': 'the-verge', 'name': 'The Verge'},\n",
       " 'author': 'Emma Roth',\n",
       " 'title': 'US blames North Korean hacker group for $625 million Axie Infinity theft',\n",
       " 'description': 'The US Department of Treasury has attributed the $625 Axie Infinity theft to Lazarus, a North Korean hacking group with ties to the country’s intelligence agency.',\n",
       " 'url': 'https://www.theverge.com/2022/4/14/23025739/north-korean-hacker-lazarus-axie-infinity-cryptocurrency-hack-theft-us-blames',\n",
       " 'urlToImage': 'https://cdn.vox-cdn.com/thumbor/n8TGCqcud7UHPIbtgxLi10Owa5I=/0x52:1018x585/fit-in/1200x630/cdn.vox-cdn.com/uploads/chorus_asset/file/23374959/Screen_Shot_2022_03_30_at_10.10.00_AM.png',\n",
       " 'publishedAt': '2022-04-14T21:43:57Z',\n",
       " 'content': 'The US Department of Treasury says Lazarus is behind the attack\\r\\nThe US Treasury Department blames North Korean hacking group Lazarus for stealing $625 million in cryptocurrency from the Ronin networ… [+1853 chars]'}"
      ]
     },
     "execution_count": 122,
     "metadata": {},
     "output_type": "execute_result"
    }
   ],
   "source": [
    "# Preview the first Ethereum article to see how items are labeled\n",
    "eth_articles[\"articles\"][0]"
   ]
  },
  {
   "cell_type": "code",
   "execution_count": 123,
   "metadata": {},
   "outputs": [
    {
     "data": {
      "text/plain": [
       "20"
      ]
     },
     "execution_count": 123,
     "metadata": {},
     "output_type": "execute_result"
    }
   ],
   "source": [
    "# Create the Bitcoin sentiment scores DataFrame\n",
    "btc_sentiments = []\n",
    "\n",
    "for article in btc_articles[\"articles\"]:\n",
    "    try:\n",
    "        text = article[\"content\"]\n",
    "        date = article[\"publishedAt\"][:10]\n",
    "        sentiment = analyzer.polarity_scores(text)\n",
    "        compound = sentiment[\"compound\"]\n",
    "        pos = sentiment[\"pos\"]\n",
    "        neu = sentiment[\"neu\"]\n",
    "        neg = sentiment[\"neg\"]\n",
    "        \n",
    "        btc_sentiments.append({\n",
    "            \"text\": text,\n",
    "            \"date\": date,\n",
    "            \"compound\": compound,\n",
    "            \"positive\": pos,\n",
    "            \"negative\": neg,\n",
    "            \"neutral\": neu\n",
    "            \n",
    "        })\n",
    "        \n",
    "    except AttributeError:\n",
    "        pass\n",
    "    \n",
    "\n",
    "btc_df = pd.DataFrame(btc_sentiments)\n",
    "\n",
    "# Reorder DataFrame columns\n",
    "cols = [\"date\", \"text\", \"compound\", \"positive\", \"negative\", \"neutral\"]\n",
    "btc_df = btc_df[cols]\n",
    "\n",
    "len(btc_df)"
   ]
  },
  {
   "cell_type": "code",
   "execution_count": 124,
   "metadata": {},
   "outputs": [
    {
     "data": {
      "text/html": [
       "<div>\n",
       "<style scoped>\n",
       "    .dataframe tbody tr th:only-of-type {\n",
       "        vertical-align: middle;\n",
       "    }\n",
       "\n",
       "    .dataframe tbody tr th {\n",
       "        vertical-align: top;\n",
       "    }\n",
       "\n",
       "    .dataframe thead th {\n",
       "        text-align: right;\n",
       "    }\n",
       "</style>\n",
       "<table border=\"1\" class=\"dataframe\">\n",
       "  <thead>\n",
       "    <tr style=\"text-align: right;\">\n",
       "      <th></th>\n",
       "      <th>date</th>\n",
       "      <th>text</th>\n",
       "      <th>compound</th>\n",
       "      <th>positive</th>\n",
       "      <th>negative</th>\n",
       "      <th>neutral</th>\n",
       "    </tr>\n",
       "  </thead>\n",
       "  <tbody>\n",
       "    <tr>\n",
       "      <th>0</th>\n",
       "      <td>2022-04-14</td>\n",
       "      <td>The US Department of Treasury says Lazarus is ...</td>\n",
       "      <td>-0.7845</td>\n",
       "      <td>0.088</td>\n",
       "      <td>0.231</td>\n",
       "      <td>0.681</td>\n",
       "    </tr>\n",
       "    <tr>\n",
       "      <th>1</th>\n",
       "      <td>2022-04-13</td>\n",
       "      <td>18 with 15 posters participating, including st...</td>\n",
       "      <td>0.1027</td>\n",
       "      <td>0.084</td>\n",
       "      <td>0.071</td>\n",
       "      <td>0.844</td>\n",
       "    </tr>\n",
       "    <tr>\n",
       "      <th>2</th>\n",
       "      <td>2022-05-10</td>\n",
       "      <td>Meta has revealed more of how NFTs will work o...</td>\n",
       "      <td>0.6486</td>\n",
       "      <td>0.135</td>\n",
       "      <td>0.000</td>\n",
       "      <td>0.865</td>\n",
       "    </tr>\n",
       "    <tr>\n",
       "      <th>3</th>\n",
       "      <td>2022-04-15</td>\n",
       "      <td>Opera launched its dedicated \"Crypto Browser\" ...</td>\n",
       "      <td>0.7351</td>\n",
       "      <td>0.188</td>\n",
       "      <td>0.000</td>\n",
       "      <td>0.812</td>\n",
       "    </tr>\n",
       "    <tr>\n",
       "      <th>4</th>\n",
       "      <td>2022-05-02</td>\n",
       "      <td>A multi-billion dollar cryptocurrency company ...</td>\n",
       "      <td>-0.2263</td>\n",
       "      <td>0.046</td>\n",
       "      <td>0.075</td>\n",
       "      <td>0.879</td>\n",
       "    </tr>\n",
       "  </tbody>\n",
       "</table>\n",
       "</div>"
      ],
      "text/plain": [
       "         date                                               text  compound  \\\n",
       "0  2022-04-14  The US Department of Treasury says Lazarus is ...   -0.7845   \n",
       "1  2022-04-13  18 with 15 posters participating, including st...    0.1027   \n",
       "2  2022-05-10  Meta has revealed more of how NFTs will work o...    0.6486   \n",
       "3  2022-04-15  Opera launched its dedicated \"Crypto Browser\" ...    0.7351   \n",
       "4  2022-05-02  A multi-billion dollar cryptocurrency company ...   -0.2263   \n",
       "\n",
       "   positive  negative  neutral  \n",
       "0     0.088     0.231    0.681  \n",
       "1     0.084     0.071    0.844  \n",
       "2     0.135     0.000    0.865  \n",
       "3     0.188     0.000    0.812  \n",
       "4     0.046     0.075    0.879  "
      ]
     },
     "execution_count": 124,
     "metadata": {},
     "output_type": "execute_result"
    }
   ],
   "source": [
    "# Create the Ethereum sentiment scores DataFrame\n",
    "eth_sentiments = []\n",
    "\n",
    "for article in eth_articles[\"articles\"]:\n",
    "    try:\n",
    "        text = article[\"content\"]\n",
    "        date = article[\"publishedAt\"][:10]\n",
    "        sentiment = analyzer.polarity_scores(text)\n",
    "        compound = sentiment[\"compound\"]\n",
    "        pos = sentiment[\"pos\"]\n",
    "        neu = sentiment[\"neu\"]\n",
    "        neg = sentiment[\"neg\"]\n",
    "        \n",
    "        eth_sentiments.append({\n",
    "            \"text\": text,\n",
    "            \"date\": date,\n",
    "            \"compound\": compound,\n",
    "            \"positive\": pos,\n",
    "            \"negative\": neg,\n",
    "            \"neutral\": neu\n",
    "            \n",
    "        })\n",
    "        \n",
    "    except AttributeError:\n",
    "        pass\n",
    "    \n",
    "# Create DataFrame\n",
    "eth_df = pd.DataFrame(eth_sentiments)\n",
    "\n",
    "# Reorder DataFrame columns\n",
    "cols = [\"date\", \"text\", \"compound\", \"positive\", \"negative\", \"neutral\"]\n",
    "eth_df = eth_df[cols]\n",
    "\n",
    "eth_df.head()"
   ]
  },
  {
   "cell_type": "code",
   "execution_count": 125,
   "metadata": {},
   "outputs": [
    {
     "data": {
      "text/html": [
       "<div>\n",
       "<style scoped>\n",
       "    .dataframe tbody tr th:only-of-type {\n",
       "        vertical-align: middle;\n",
       "    }\n",
       "\n",
       "    .dataframe tbody tr th {\n",
       "        vertical-align: top;\n",
       "    }\n",
       "\n",
       "    .dataframe thead th {\n",
       "        text-align: right;\n",
       "    }\n",
       "</style>\n",
       "<table border=\"1\" class=\"dataframe\">\n",
       "  <thead>\n",
       "    <tr style=\"text-align: right;\">\n",
       "      <th></th>\n",
       "      <th>compound</th>\n",
       "      <th>positive</th>\n",
       "      <th>negative</th>\n",
       "      <th>neutral</th>\n",
       "    </tr>\n",
       "  </thead>\n",
       "  <tbody>\n",
       "    <tr>\n",
       "      <th>count</th>\n",
       "      <td>20.000000</td>\n",
       "      <td>20.00000</td>\n",
       "      <td>20.000000</td>\n",
       "      <td>20.000000</td>\n",
       "    </tr>\n",
       "    <tr>\n",
       "      <th>mean</th>\n",
       "      <td>0.039835</td>\n",
       "      <td>0.07210</td>\n",
       "      <td>0.060950</td>\n",
       "      <td>0.866900</td>\n",
       "    </tr>\n",
       "    <tr>\n",
       "      <th>std</th>\n",
       "      <td>0.404467</td>\n",
       "      <td>0.06750</td>\n",
       "      <td>0.061445</td>\n",
       "      <td>0.093058</td>\n",
       "    </tr>\n",
       "    <tr>\n",
       "      <th>min</th>\n",
       "      <td>-0.549900</td>\n",
       "      <td>0.00000</td>\n",
       "      <td>0.000000</td>\n",
       "      <td>0.557000</td>\n",
       "    </tr>\n",
       "    <tr>\n",
       "      <th>25%</th>\n",
       "      <td>-0.335475</td>\n",
       "      <td>0.00000</td>\n",
       "      <td>0.000000</td>\n",
       "      <td>0.836000</td>\n",
       "    </tr>\n",
       "    <tr>\n",
       "      <th>50%</th>\n",
       "      <td>0.089950</td>\n",
       "      <td>0.07400</td>\n",
       "      <td>0.063000</td>\n",
       "      <td>0.888000</td>\n",
       "    </tr>\n",
       "    <tr>\n",
       "      <th>75%</th>\n",
       "      <td>0.355075</td>\n",
       "      <td>0.08575</td>\n",
       "      <td>0.077000</td>\n",
       "      <td>0.924250</td>\n",
       "    </tr>\n",
       "    <tr>\n",
       "      <th>max</th>\n",
       "      <td>0.750600</td>\n",
       "      <td>0.20200</td>\n",
       "      <td>0.241000</td>\n",
       "      <td>0.964000</td>\n",
       "    </tr>\n",
       "  </tbody>\n",
       "</table>\n",
       "</div>"
      ],
      "text/plain": [
       "        compound  positive   negative    neutral\n",
       "count  20.000000  20.00000  20.000000  20.000000\n",
       "mean    0.039835   0.07210   0.060950   0.866900\n",
       "std     0.404467   0.06750   0.061445   0.093058\n",
       "min    -0.549900   0.00000   0.000000   0.557000\n",
       "25%    -0.335475   0.00000   0.000000   0.836000\n",
       "50%     0.089950   0.07400   0.063000   0.888000\n",
       "75%     0.355075   0.08575   0.077000   0.924250\n",
       "max     0.750600   0.20200   0.241000   0.964000"
      ]
     },
     "execution_count": 125,
     "metadata": {},
     "output_type": "execute_result"
    }
   ],
   "source": [
    "# Describe the Bitcoin Sentiment\n",
    "btc_df.describe()"
   ]
  },
  {
   "cell_type": "code",
   "execution_count": 126,
   "metadata": {},
   "outputs": [
    {
     "data": {
      "text/html": [
       "<div>\n",
       "<style scoped>\n",
       "    .dataframe tbody tr th:only-of-type {\n",
       "        vertical-align: middle;\n",
       "    }\n",
       "\n",
       "    .dataframe tbody tr th {\n",
       "        vertical-align: top;\n",
       "    }\n",
       "\n",
       "    .dataframe thead th {\n",
       "        text-align: right;\n",
       "    }\n",
       "</style>\n",
       "<table border=\"1\" class=\"dataframe\">\n",
       "  <thead>\n",
       "    <tr style=\"text-align: right;\">\n",
       "      <th></th>\n",
       "      <th>compound</th>\n",
       "      <th>positive</th>\n",
       "      <th>negative</th>\n",
       "      <th>neutral</th>\n",
       "    </tr>\n",
       "  </thead>\n",
       "  <tbody>\n",
       "    <tr>\n",
       "      <th>count</th>\n",
       "      <td>20.000000</td>\n",
       "      <td>20.000000</td>\n",
       "      <td>20.000000</td>\n",
       "      <td>20.000000</td>\n",
       "    </tr>\n",
       "    <tr>\n",
       "      <th>mean</th>\n",
       "      <td>-0.081860</td>\n",
       "      <td>0.053050</td>\n",
       "      <td>0.069000</td>\n",
       "      <td>0.877900</td>\n",
       "    </tr>\n",
       "    <tr>\n",
       "      <th>std</th>\n",
       "      <td>0.481385</td>\n",
       "      <td>0.064728</td>\n",
       "      <td>0.072897</td>\n",
       "      <td>0.074939</td>\n",
       "    </tr>\n",
       "    <tr>\n",
       "      <th>min</th>\n",
       "      <td>-0.784500</td>\n",
       "      <td>0.000000</td>\n",
       "      <td>0.000000</td>\n",
       "      <td>0.681000</td>\n",
       "    </tr>\n",
       "    <tr>\n",
       "      <th>25%</th>\n",
       "      <td>-0.381800</td>\n",
       "      <td>0.000000</td>\n",
       "      <td>0.000000</td>\n",
       "      <td>0.827250</td>\n",
       "    </tr>\n",
       "    <tr>\n",
       "      <th>50%</th>\n",
       "      <td>-0.273200</td>\n",
       "      <td>0.023000</td>\n",
       "      <td>0.063000</td>\n",
       "      <td>0.899500</td>\n",
       "    </tr>\n",
       "    <tr>\n",
       "      <th>75%</th>\n",
       "      <td>0.303775</td>\n",
       "      <td>0.085000</td>\n",
       "      <td>0.077750</td>\n",
       "      <td>0.935500</td>\n",
       "    </tr>\n",
       "    <tr>\n",
       "      <th>max</th>\n",
       "      <td>0.735100</td>\n",
       "      <td>0.188000</td>\n",
       "      <td>0.233000</td>\n",
       "      <td>1.000000</td>\n",
       "    </tr>\n",
       "  </tbody>\n",
       "</table>\n",
       "</div>"
      ],
      "text/plain": [
       "        compound   positive   negative    neutral\n",
       "count  20.000000  20.000000  20.000000  20.000000\n",
       "mean   -0.081860   0.053050   0.069000   0.877900\n",
       "std     0.481385   0.064728   0.072897   0.074939\n",
       "min    -0.784500   0.000000   0.000000   0.681000\n",
       "25%    -0.381800   0.000000   0.000000   0.827250\n",
       "50%    -0.273200   0.023000   0.063000   0.899500\n",
       "75%     0.303775   0.085000   0.077750   0.935500\n",
       "max     0.735100   0.188000   0.233000   1.000000"
      ]
     },
     "execution_count": 126,
     "metadata": {},
     "output_type": "execute_result"
    }
   ],
   "source": [
    "# Describe the Ethereum Sentiment\n",
    "eth_df.describe()"
   ]
  },
  {
   "cell_type": "markdown",
   "metadata": {},
   "source": [
    "### Questions:\n",
    "\n",
    "Q: Which coin had the highest mean positive score?\n",
    "\n",
    "A: Bitcoin articles had the highest mean positive score.\n",
    "\n",
    "Q: Which coin had the highest compound score?\n",
    "\n",
    "A: An Ethereum article had the highest compound score with a score of 0.9327.\n",
    "\n",
    "Q. Which coin had the highest positive score?\n",
    "\n",
    "A: It was also an Ethereum article that had the highest positive score with a score of 0.349."
   ]
  },
  {
   "cell_type": "markdown",
   "metadata": {},
   "source": [
    "---"
   ]
  },
  {
   "cell_type": "markdown",
   "metadata": {},
   "source": [
    "## 2. Natural Language Processing\n",
    "---\n",
    "###   Tokenizer\n",
    "\n",
    "In this section, you will use NLTK and Python to tokenize the text for each coin. Be sure to:\n",
    "1. Lowercase each word.\n",
    "2. Remove Punctuation.\n",
    "3. Remove Stopwords."
   ]
  },
  {
   "cell_type": "code",
   "execution_count": 127,
   "metadata": {},
   "outputs": [
    {
     "name": "stderr",
     "output_type": "stream",
     "text": [
      "[nltk_data] Downloading package omw-1.4 to\n",
      "[nltk_data]     C:\\Users\\altma\\AppData\\Roaming\\nltk_data...\n",
      "[nltk_data]   Package omw-1.4 is already up-to-date!\n",
      "[nltk_data] Downloading package stopwords to\n",
      "[nltk_data]     C:\\Users\\altma\\AppData\\Roaming\\nltk_data...\n",
      "[nltk_data]   Package stopwords is already up-to-date!\n"
     ]
    }
   ],
   "source": [
    "from nltk.tokenize import word_tokenize, sent_tokenize\n",
    "from nltk.corpus import stopwords\n",
    "from nltk.stem import WordNetLemmatizer, PorterStemmer\n",
    "from string import punctuation\n",
    "import nltk\n",
    "nltk.download('omw-1.4')\n",
    "nltk.download('stopwords')\n",
    "import re"
   ]
  },
  {
   "cell_type": "code",
   "execution_count": 128,
   "metadata": {},
   "outputs": [],
   "source": [
    "# Instantiate the lemmatizer\n",
    "lemmatizer = WordNetLemmatizer()\n",
    "\n",
    "# Create a list of stopwords\n",
    "sw = set(stopwords.words('english'))\n",
    "\n",
    "# Expand the default stopwords list if necessary"
   ]
  },
  {
   "cell_type": "code",
   "execution_count": 129,
   "metadata": {},
   "outputs": [],
   "source": [
    "# Complete the tokenizer function\n",
    "def tokenizer(text):\n",
    "    \"\"\"Tokenizes text.\"\"\"\n",
    "    \n",
    "    # Remove the punctuation from text\n",
    "    regex = re.compile(\"[^a-zA-Z ]\")\n",
    "    re_clean = regex.sub('', text)\n",
    "    \n",
    "    # Create a tokenized list of the words\n",
    "    words = word_tokenize(re_clean)\n",
    "    \n",
    "    # Lemmatize words into root words\n",
    "    lem = [lemmatizer.lemmatize(word) for word in words]\n",
    "   \n",
    "    # Convert the words to lowercase and remove stop words\n",
    "    tokens = [word.lower() for word in lem if word.lower() not in sw]\n",
    "    \n",
    "    \n",
    "    return tokens"
   ]
  },
  {
   "cell_type": "code",
   "execution_count": 130,
   "metadata": {},
   "outputs": [
    {
     "data": {
      "text/html": [
       "<div>\n",
       "<style scoped>\n",
       "    .dataframe tbody tr th:only-of-type {\n",
       "        vertical-align: middle;\n",
       "    }\n",
       "\n",
       "    .dataframe tbody tr th {\n",
       "        vertical-align: top;\n",
       "    }\n",
       "\n",
       "    .dataframe thead th {\n",
       "        text-align: right;\n",
       "    }\n",
       "</style>\n",
       "<table border=\"1\" class=\"dataframe\">\n",
       "  <thead>\n",
       "    <tr style=\"text-align: right;\">\n",
       "      <th></th>\n",
       "      <th>date</th>\n",
       "      <th>text</th>\n",
       "      <th>compound</th>\n",
       "      <th>positive</th>\n",
       "      <th>negative</th>\n",
       "      <th>neutral</th>\n",
       "      <th>tokens</th>\n",
       "    </tr>\n",
       "  </thead>\n",
       "  <tbody>\n",
       "    <tr>\n",
       "      <th>0</th>\n",
       "      <td>2022-05-10</td>\n",
       "      <td>Now, even though there are a number of women-f...</td>\n",
       "      <td>0.0772</td>\n",
       "      <td>0.036</td>\n",
       "      <td>0.000</td>\n",
       "      <td>0.964</td>\n",
       "      <td>[even, though, number, womenfocused, crypto, s...</td>\n",
       "    </tr>\n",
       "    <tr>\n",
       "      <th>1</th>\n",
       "      <td>2022-05-04</td>\n",
       "      <td>A Bitcoin mining site powered by otherwise los...</td>\n",
       "      <td>-0.0516</td>\n",
       "      <td>0.056</td>\n",
       "      <td>0.061</td>\n",
       "      <td>0.882</td>\n",
       "      <td>[bitcoin, mining, site, powered, otherwise, lo...</td>\n",
       "    </tr>\n",
       "    <tr>\n",
       "      <th>2</th>\n",
       "      <td>2022-04-14</td>\n",
       "      <td>Wikipedia editors have voted in favor of dropp...</td>\n",
       "      <td>0.4019</td>\n",
       "      <td>0.088</td>\n",
       "      <td>0.000</td>\n",
       "      <td>0.912</td>\n",
       "      <td>[wikipedia, editor, voted, favor, dropping, cr...</td>\n",
       "    </tr>\n",
       "    <tr>\n",
       "      <th>3</th>\n",
       "      <td>2022-05-02</td>\n",
       "      <td>Warren Buffett has always been a bitcoin skept...</td>\n",
       "      <td>-0.3269</td>\n",
       "      <td>0.085</td>\n",
       "      <td>0.143</td>\n",
       "      <td>0.772</td>\n",
       "      <td>[warren, buffett, ha, always, bitcoin, skeptic...</td>\n",
       "    </tr>\n",
       "    <tr>\n",
       "      <th>4</th>\n",
       "      <td>2022-05-09</td>\n",
       "      <td>Image source, Getty Images\\r\\nThe value of Bit...</td>\n",
       "      <td>0.3400</td>\n",
       "      <td>0.072</td>\n",
       "      <td>0.000</td>\n",
       "      <td>0.928</td>\n",
       "      <td>[image, source, getty, imagesthe, value, bitco...</td>\n",
       "    </tr>\n",
       "  </tbody>\n",
       "</table>\n",
       "</div>"
      ],
      "text/plain": [
       "         date                                               text  compound  \\\n",
       "0  2022-05-10  Now, even though there are a number of women-f...    0.0772   \n",
       "1  2022-05-04  A Bitcoin mining site powered by otherwise los...   -0.0516   \n",
       "2  2022-04-14  Wikipedia editors have voted in favor of dropp...    0.4019   \n",
       "3  2022-05-02  Warren Buffett has always been a bitcoin skept...   -0.3269   \n",
       "4  2022-05-09  Image source, Getty Images\\r\\nThe value of Bit...    0.3400   \n",
       "\n",
       "   positive  negative  neutral  \\\n",
       "0     0.036     0.000    0.964   \n",
       "1     0.056     0.061    0.882   \n",
       "2     0.088     0.000    0.912   \n",
       "3     0.085     0.143    0.772   \n",
       "4     0.072     0.000    0.928   \n",
       "\n",
       "                                              tokens  \n",
       "0  [even, though, number, womenfocused, crypto, s...  \n",
       "1  [bitcoin, mining, site, powered, otherwise, lo...  \n",
       "2  [wikipedia, editor, voted, favor, dropping, cr...  \n",
       "3  [warren, buffett, ha, always, bitcoin, skeptic...  \n",
       "4  [image, source, getty, imagesthe, value, bitco...  "
      ]
     },
     "execution_count": 130,
     "metadata": {},
     "output_type": "execute_result"
    }
   ],
   "source": [
    "# Create a new tokens column for Bitcoin\n",
    "\n",
    "btc_text = [str(article['content']) for article in btc_articles['articles']]\n",
    "btc_tokens = [tokenizer(text) for text in btc_text]\n",
    "btc_df['tokens'] = btc_tokens\n",
    "btc_df.head()"
   ]
  },
  {
   "cell_type": "code",
   "execution_count": 131,
   "metadata": {},
   "outputs": [
    {
     "data": {
      "text/html": [
       "<div>\n",
       "<style scoped>\n",
       "    .dataframe tbody tr th:only-of-type {\n",
       "        vertical-align: middle;\n",
       "    }\n",
       "\n",
       "    .dataframe tbody tr th {\n",
       "        vertical-align: top;\n",
       "    }\n",
       "\n",
       "    .dataframe thead th {\n",
       "        text-align: right;\n",
       "    }\n",
       "</style>\n",
       "<table border=\"1\" class=\"dataframe\">\n",
       "  <thead>\n",
       "    <tr style=\"text-align: right;\">\n",
       "      <th></th>\n",
       "      <th>date</th>\n",
       "      <th>text</th>\n",
       "      <th>compound</th>\n",
       "      <th>positive</th>\n",
       "      <th>negative</th>\n",
       "      <th>neutral</th>\n",
       "      <th>tokens</th>\n",
       "    </tr>\n",
       "  </thead>\n",
       "  <tbody>\n",
       "    <tr>\n",
       "      <th>0</th>\n",
       "      <td>2022-04-14</td>\n",
       "      <td>The US Department of Treasury says Lazarus is ...</td>\n",
       "      <td>-0.7845</td>\n",
       "      <td>0.088</td>\n",
       "      <td>0.231</td>\n",
       "      <td>0.681</td>\n",
       "      <td>[us, department, treasury, say, lazarus, behin...</td>\n",
       "    </tr>\n",
       "    <tr>\n",
       "      <th>1</th>\n",
       "      <td>2022-04-13</td>\n",
       "      <td>18 with 15 posters participating, including st...</td>\n",
       "      <td>0.1027</td>\n",
       "      <td>0.084</td>\n",
       "      <td>0.071</td>\n",
       "      <td>0.844</td>\n",
       "      <td>[poster, participating, including, story, auth...</td>\n",
       "    </tr>\n",
       "    <tr>\n",
       "      <th>2</th>\n",
       "      <td>2022-05-10</td>\n",
       "      <td>Meta has revealed more of how NFTs will work o...</td>\n",
       "      <td>0.6486</td>\n",
       "      <td>0.135</td>\n",
       "      <td>0.000</td>\n",
       "      <td>0.865</td>\n",
       "      <td>[meta, ha, revealed, nfts, work, instagram, us...</td>\n",
       "    </tr>\n",
       "    <tr>\n",
       "      <th>3</th>\n",
       "      <td>2022-04-15</td>\n",
       "      <td>Opera launched its dedicated \"Crypto Browser\" ...</td>\n",
       "      <td>0.7351</td>\n",
       "      <td>0.188</td>\n",
       "      <td>0.000</td>\n",
       "      <td>0.812</td>\n",
       "      <td>[opera, launched, dedicated, crypto, browser, ...</td>\n",
       "    </tr>\n",
       "    <tr>\n",
       "      <th>4</th>\n",
       "      <td>2022-05-02</td>\n",
       "      <td>A multi-billion dollar cryptocurrency company ...</td>\n",
       "      <td>-0.2263</td>\n",
       "      <td>0.046</td>\n",
       "      <td>0.075</td>\n",
       "      <td>0.879</td>\n",
       "      <td>[multibillion, dollar, cryptocurrency, company...</td>\n",
       "    </tr>\n",
       "  </tbody>\n",
       "</table>\n",
       "</div>"
      ],
      "text/plain": [
       "         date                                               text  compound  \\\n",
       "0  2022-04-14  The US Department of Treasury says Lazarus is ...   -0.7845   \n",
       "1  2022-04-13  18 with 15 posters participating, including st...    0.1027   \n",
       "2  2022-05-10  Meta has revealed more of how NFTs will work o...    0.6486   \n",
       "3  2022-04-15  Opera launched its dedicated \"Crypto Browser\" ...    0.7351   \n",
       "4  2022-05-02  A multi-billion dollar cryptocurrency company ...   -0.2263   \n",
       "\n",
       "   positive  negative  neutral  \\\n",
       "0     0.088     0.231    0.681   \n",
       "1     0.084     0.071    0.844   \n",
       "2     0.135     0.000    0.865   \n",
       "3     0.188     0.000    0.812   \n",
       "4     0.046     0.075    0.879   \n",
       "\n",
       "                                              tokens  \n",
       "0  [us, department, treasury, say, lazarus, behin...  \n",
       "1  [poster, participating, including, story, auth...  \n",
       "2  [meta, ha, revealed, nfts, work, instagram, us...  \n",
       "3  [opera, launched, dedicated, crypto, browser, ...  \n",
       "4  [multibillion, dollar, cryptocurrency, company...  "
      ]
     },
     "execution_count": 131,
     "metadata": {},
     "output_type": "execute_result"
    }
   ],
   "source": [
    "# Create a new tokens column for Ethereum\n",
    "\n",
    "eth_text = [str(article['content']) for article in eth_articles['articles']]\n",
    "eth_tokens = [tokenizer(text) for text in eth_text]\n",
    "eth_df['tokens'] = eth_tokens\n",
    "eth_df.head()"
   ]
  },
  {
   "cell_type": "markdown",
   "metadata": {},
   "source": [
    "---"
   ]
  },
  {
   "cell_type": "markdown",
   "metadata": {},
   "source": [
    "### NGrams and Frequency Analysis\n",
    "\n",
    "In this section you will look at the ngrams and word frequency for each coin. \n",
    "\n",
    "1. Use NLTK to produce the n-grams for N = 2. \n",
    "2. List the top 10 words for each coin. "
   ]
  },
  {
   "cell_type": "code",
   "execution_count": null,
   "metadata": {},
   "outputs": [],
   "source": [
    "from collections import Counter\n",
    "from nltk import ngrams"
   ]
  },
  {
   "cell_type": "code",
   "execution_count": 136,
   "metadata": {},
   "outputs": [
    {
     "name": "stdout",
     "output_type": "stream",
     "text": [
      "{('even', 'though'): 1, ('though', 'number'): 1, ('number', 'womenfocused'): 1, ('womenfocused', 'crypto'): 1, ('crypto', 'space'): 1, ('space', 'odeniran'): 1, ('odeniran', 'say'): 1, ('say', 'woman'): 1, ('woman', 'still'): 1, ('still', 'underrepresented'): 1, ('underrepresented', 'ive'): 1, ('ive', 'space'): 1, ('space', 'im'): 1, ('im', 'black'): 1, ('black', 'person'): 1, ('person', 'woman'): 1, ('woman', 'b'): 1, ('b', 'char'): 2, ('char', 'bitcoin'): 1, ('bitcoin', 'mining'): 1, ('mining', 'site'): 1, ('site', 'powered'): 1, ('powered', 'otherwise'): 1, ('otherwise', 'lost'): 1, ('lost', 'gas'): 1, ('gas', 'oil'): 1, ('oil', 'well'): 1, ('well', 'near'): 1, ('near', 'linden'): 1, ('linden', 'texas'): 1, ('texas', 'april'): 1, ('april', 'th'): 1, ('th', 'photo'): 1, ('photo', 'francois'): 1, ('francois', 'picardafp'): 1, ('picardafp', 'via'): 1, ('via', 'getty'): 1, ('getty', 'images'): 1, ('images', 'corporate'): 1, ('corporate', 'climate'): 1, ('climate', 'hype'): 1, ('hype', 'fl'): 1, ('fl', 'char'): 1, ('char', 'wikipedia'): 1, ('wikipedia', 'editor'): 2, ('editor', 'voted'): 1, ('voted', 'favor'): 1, ('favor', 'dropping'): 1, ('dropping', 'cryptocurrency'): 1, ('cryptocurrency', 'wikimedia'): 1, ('wikimedia', 'foundations'): 1, ('foundations', 'donation'): 1, ('donation', 'option'): 1, ('option', 'ars'): 1, ('ars', 'technica'): 1, ('technica', 'report'): 1, ('report', 'editor'): 1, ('editor', 'online'): 1, ('online', 'encyclopedia'): 1, ('encyclopedia', 'called'): 1, ('called', 'gorillawarfare'): 1, ('gorillawarfare', 'char'): 1, ('char', 'warren'): 1, ('warren', 'buffett'): 1, ('buffett', 'ha'): 1, ('ha', 'always'): 1, ('always', 'bitcoin'): 1, ('bitcoin', 'skeptic'): 1, ('skeptic', 'billionaire'): 1, ('billionaire', 'investor'): 1, ('investor', 'harsh'): 1, ('harsh', 'word'): 1, ('word', 'yet'): 1, ('yet', 'cryptocurrency'): 1, ('cryptocurrency', 'weekend'): 1, ('weekend', 'buffett'): 1, ('buffett', 'made'): 1, ('made', 'clear'): 1, ('clear', 'opposition'): 1, ('opposition', 'crypt'): 1, ('crypt', 'char'): 1, ('char', 'image'): 1, ('image', 'source'): 1, ('source', 'getty'): 1, ('getty', 'imagesthe'): 1, ('imagesthe', 'value'): 1, ('value', 'bitcoin'): 1, ('bitcoin', 'continued'): 1, ('continued', 'fall'): 1, ('fall', 'weekend'): 1, ('weekend', 'dropped'): 1, ('dropped', 'according'): 1, ('according', 'coinbase'): 1, ('coinbase', 'cryptocurrency'): 1, ('cryptocurrency', 'exchangethe'): 1, ('exchangethe', 'world'): 1, ('world', 'largest'): 1, ('largest', 'cryp'): 1, ('cryp', 'char'): 1, ('char', 'youve'): 1, ('youve', 'ever'): 1, ('ever', 'felt'): 1, ('felt', 'like'): 1, ('like', 'introducing'): 1, ('introducing', 'vegasstyle'): 1, ('vegasstyle', 'odds'): 1, ('odds', 'retirement'): 1, ('retirement', 'plan'): 1, ('plan', 'youre'): 1, ('youre', 'finally'): 1, ('finally', 'lucklast'): 1, ('lucklast', 'week'): 1, ('week', 'fidelity'): 1, ('fidelity', 'investments'): 1, ('investments', 'announced'): 1, ('announced', 'would'): 1, ('would', 'allow'): 1, ('allow', 'investor'): 1, ('investor', 'put'): 1, ('put', 'part'): 1, ('part', 'char'): 1, ('char', 'cryptocurrency'): 1, ('cryptocurrency', 'mixer'): 1, ('mixer', 'sometimes'): 1, ('sometimes', 'used'): 1, ('used', 'help'): 1, ('help', 'online'): 1, ('online', 'criminal'): 1, ('criminal', 'launder'): 1, ('launder', 'stolen'): 1, ('stolen', 'money'): 1, ('money', 'hiding'): 1, ('hiding', 'true'): 1, ('true', 'origin'): 1, ('origin', 'us'): 1, ('us', 'treasury'): 1, ('treasury', 'ready'): 1, ('ready', 'clamp'): 1, ('clamp', 'hostile'): 1, ('hostile', 'government'): 1, ('government', 'char'): 1, ('char', 'poster'): 1, ('poster', 'participating'): 1, ('participating', 'including'): 1, ('including', 'story'): 1, ('story', 'authormore'): 1, ('authormore', 'longtime'): 1, ('longtime', 'wikipedia'): 1, ('editor', 'requested'): 1, ('requested', 'wikimedia'): 1, ('wikimedia', 'foundation'): 1, ('foundation', 'stop'): 1, ('stop', 'accepting'): 1, ('accepting', 'cryptocurrency'): 1, ('cryptocurrency', 'donationsthe'): 1, ('donationsthe', 'foundatio'): 1, ('foundatio', 'char'): 1, ('char', 'btc'): 1, ('btc', 'fell'): 1, ('fell', 'lowest'): 1, ('lowest', 'level'): 1, ('level', 'since'): 1, ('since', 'last'): 1, ('last', 'july'): 1, ('july', 'price'): 1, ('price', 'dropped'): 1, ('dropped', 'start'): 1, ('start', 'week'): 1, ('week', 'selloff'): 1, ('selloff', 'cryptocurrency'): 1, ('cryptocurrency', 'started'): 1, ('started', 'last'): 1, ('last', 'week'): 1, ('week', 'following'): 1, ('following', 'feds'): 1, ('feds', 'decision'): 1, ('decision', 'hike'): 1, ('hike', 'interest'): 1, ('interest', 'rate'): 2, ('rate', 'b'): 1, ('char', 'april'): 1, ('april', 'reuters'): 1, ('reuters', 'bitcoin'): 5, ('bitcoin', 'dropped'): 2, ('dropped', 'tuesday'): 1, ('tuesday', 'previous'): 1, ('previous', 'closebitcoin'): 4, ('closebitcoin', 'world'): 4, ('world', 'biggest'): 4, ('biggest', 'bestknown'): 4, ('bestknown', 'cryptocurrency'): 4, ('cryptocurrency', 'year'): 2, ('year', 'low'): 2, ('low', 'char'): 2, ('char', 'may'): 3, ('may', 'reuters'): 4, ('bitcoin', 'rose'): 1, ('rose', 'wednesday'): 1, ('wednesday', 'adding'): 1, ('adding', 'previous'): 1, ('char', 'posted'): 1, ('posted', 'bitcoins'): 1, ('bitcoins', 'dramatic'): 1, ('dramatic', 'drop'): 1, ('drop', 'new'): 1, ('new', 'way'): 1, ('way', 'pay'): 1, ('pay', 'luxury'): 1, ('luxury', 'gucci'): 1, ('gucci', 'handbag'): 1, ('handbag', 'round'): 1, ('round', 'week'): 1, ('week', 'big'): 1, ('big', 'story'): 1, ('story', 'cryptocurrencies'): 1, ('cryptocurrencies', 'kristy'): 1, ('kristy', 'kilburn'): 1, ('kilburn', 'report'): 1, ('report', 'may'): 1, ('bitcoin', 'fell'): 1, ('fell', 'gmt'): 1, ('gmt', 'wednesday'): 1, ('wednesday', 'losing'): 1, ('losing', 'previous'): 2, ('cryptocurrency', 'fro'): 1, ('fro', 'char'): 1, ('dropped', 'gmt'): 1, ('gmt', 'monday'): 1, ('monday', 'losing'): 1, ('cryptocurrency', 'char'): 1, ('char', 'dogecoiners'): 1, ('dogecoiners', 'unite'): 1, ('unite', 'movie'): 1, ('movie', 'theater'): 1, ('theater', 'chain'): 1, ('chain', 'amc'): 1, ('amc', 'ha'): 1, ('ha', 'welcomed'): 1, ('welcomed', 'cryptocurrencies'): 1, ('cryptocurrencies', 'payment'): 1, ('payment', 'option'): 1, ('option', 'online'): 1, ('online', 'mobile'): 1, ('mobile', 'purchase'): 1, ('purchase', 'tweet'): 1, ('tweet', 'april'): 1, ('april', 'amc'): 1, ('amc', 'ceo'): 1, ('ceo', 'adam'): 1, ('adam', 'aron'): 1, ('aron', 'announced'): 1, ('announced', 'moviego'): 1, ('moviego', 'char'): 1, ('char', 'mexican'): 1, ('mexican', 'restaurant'): 1, ('restaurant', 'north'): 1, ('north', 'london'): 1, ('london', 'week'): 1, ('week', 'ago'): 1, ('ago', 'handful'): 1, ('handful', 'smalltime'): 1, ('smalltime', 'remarkably'): 1, ('remarkably', 'discerning'): 1, ('discerning', 'retail'): 1, ('retail', 'cryptocurrency'): 1, ('cryptocurrency', 'investor'): 1, ('investor', 'predicted'): 1, ('predicted', 'terra'): 1, ('terra', 'luna'): 1, ('luna', 'would'): 1, ('would', 'crash'): 1, ('crash', 'several'): 1, ('several', 'w'): 1, ('w', 'char'): 1, ('char', 'opera'): 1, ('opera', 'launched'): 1, ('launched', 'dedicated'): 1, ('dedicated', 'crypto'): 1, ('crypto', 'browser'): 1, ('browser', 'beta'): 1, ('beta', 'back'): 1, ('back', 'january'): 1, ('january', 'promising'): 1, ('promising', 'make'): 1, ('make', 'web'): 1, ('web', 'accessible'): 1, ('accessible', 'web'): 1, ('web', 'website'): 1, ('website', 'company'): 1, ('company', 'released'): 1, ('released', 'browser'): 1, ('browser', 'windows'): 1, ('windows', 'mac'): 1, ('mac', 'android'): 1, ('android', 'user'): 1, ('user', 'char'): 1, ('bitcoin', 'ha'): 1, ('ha', 'scant'): 1, ('scant', 'experience'): 1, ('experience', 'rising'): 1, ('rising', 'interest'): 1, ('rate', 'posing'): 1, ('posing', 'peril'): 1, ('peril', 'investor'): 1, ('investor', 'looking'): 1, ('looking', 'capitalize'): 1, ('capitalize', 'dramatic'): 1, ('dramatic', 'dropthe'): 1, ('dropthe', 'cryptocurrency'): 1, ('cryptocurrency', 'ha'): 1, ('ha', 'tanked'): 1, ('tanked', 'along'): 1, ('along', 'ri'): 1, ('ri', 'char'): 1, ('char', 'central'): 1, ('central', 'african'): 1, ('african', 'republic'): 1, ('republic', 'ha'): 1, ('ha', 'adopted'): 1, ('adopted', 'bitcoin'): 1, ('bitcoin', 'legal'): 1, ('legal', 'tender'): 1, ('tender', 'making'): 1, ('making', 'second'): 1, ('second', 'nation'): 1, ('nation', 'world'): 1, ('world', 'el'): 1, ('el', 'salvador'): 1, ('salvador', 'wednesday'): 1, ('wednesday', 'president'): 1, ('president', 'faustin'): 1, ('faustin', 'archange'): 1, ('archange', 'touaderas'): 1, ('touaderas', 'office'): 1, ('office', 'char'): 1, ('char', 'want'): 1, ('want', 'pay'): 1, ('pay', 'online'): 1, ('online', 'need'): 1, ('need', 'register'): 1, ('register', 'account'): 1, ('account', 'provide'): 1, ('provide', 'credit'): 1, ('credit', 'card'): 2, ('card', 'information'): 1, ('information', 'dont'): 1, ('dont', 'credit'): 1, ('card', 'pay'): 1, ('pay', 'bank'): 1, ('bank', 'transfer'): 1, ('transfer', 'rise'): 1, ('rise', 'cryptocurrencies'): 1, ('cryptocurrencies', 'char'): 1}\n"
     ]
    }
   ],
   "source": [
    "# Generate the Bitcoin N-grams where N=2\n",
    "btc_token_list = [item for sublist in btc_tokens for item in sublist]\n",
    "\n",
    "btc_bigram_counts = Counter(ngrams(btc_token_list, n=2))\n",
    "\n",
    "print(dict(btc_bigram_counts))"
   ]
  },
  {
   "cell_type": "code",
   "execution_count": 137,
   "metadata": {},
   "outputs": [
    {
     "name": "stdout",
     "output_type": "stream",
     "text": [
      "{('us', 'department'): 1, ('department', 'treasury'): 1, ('treasury', 'say'): 1, ('say', 'lazarus'): 1, ('lazarus', 'behind'): 1, ('behind', 'attackthe'): 1, ('attackthe', 'us'): 1, ('us', 'treasury'): 1, ('treasury', 'department'): 1, ('department', 'blame'): 1, ('blame', 'north'): 1, ('north', 'korean'): 1, ('korean', 'hacking'): 1, ('hacking', 'group'): 1, ('group', 'lazarus'): 1, ('lazarus', 'stealing'): 1, ('stealing', 'million'): 1, ('million', 'cryptocurrency'): 1, ('cryptocurrency', 'ronin'): 1, ('ronin', 'networ'): 1, ('networ', 'char'): 1, ('char', 'poster'): 1, ('poster', 'participating'): 1, ('participating', 'including'): 1, ('including', 'story'): 1, ('story', 'authormore'): 1, ('authormore', 'longtime'): 1, ('longtime', 'wikipedia'): 1, ('wikipedia', 'editor'): 1, ('editor', 'requested'): 1, ('requested', 'wikimedia'): 1, ('wikimedia', 'foundation'): 1, ('foundation', 'stop'): 1, ('stop', 'accepting'): 1, ('accepting', 'cryptocurrency'): 1, ('cryptocurrency', 'donationsthe'): 1, ('donationsthe', 'foundatio'): 1, ('foundatio', 'char'): 1, ('char', 'meta'): 1, ('meta', 'ha'): 1, ('ha', 'revealed'): 1, ('revealed', 'nfts'): 1, ('nfts', 'work'): 1, ('work', 'instagram'): 1, ('instagram', 'usbased'): 1, ('usbased', 'test'): 1, ('test', 'show'): 1, ('show', 'youve'): 1, ('youve', 'bought'): 1, ('bought', 'created'): 1, ('created', 'free'): 1, ('free', 'connecting'): 1, ('connecting', 'instagram'): 1, ('instagram', 'account'): 1, ('account', 'compatible'): 1, ('compatible', 'digital'): 1, ('digital', 'walle'): 1, ('walle', 'char'): 1, ('char', 'opera'): 1, ('opera', 'launched'): 1, ('launched', 'dedicated'): 1, ('dedicated', 'crypto'): 1, ('crypto', 'browser'): 1, ('browser', 'beta'): 1, ('beta', 'back'): 1, ('back', 'january'): 1, ('january', 'promising'): 1, ('promising', 'make'): 1, ('make', 'web'): 1, ('web', 'accessible'): 1, ('accessible', 'web'): 1, ('web', 'website'): 1, ('website', 'company'): 1, ('company', 'released'): 1, ('released', 'browser'): 1, ('browser', 'windows'): 1, ('windows', 'mac'): 1, ('mac', 'android'): 1, ('android', 'user'): 1, ('user', 'char'): 1, ('char', 'multibillion'): 1, ('multibillion', 'dollar'): 1, ('dollar', 'cryptocurrency'): 1, ('cryptocurrency', 'company'): 1, ('company', 'ha'): 1, ('ha', 'apologised'): 1, ('apologised', 'user'): 1, ('user', 'sale'): 1, ('sale', 'metaverse'): 1, ('metaverse', 'land'): 1, ('land', 'sparked'): 1, ('sparked', 'frenzy'): 1, ('frenzy', 'temporarily'): 1, ('temporarily', 'brought'): 1, ('brought', 'ethereum'): 1, ('ethereum', 'cryptocurrencyyuga'): 1, ('cryptocurrencyyuga', 'labs'): 1, ('labs', 'comp'): 1, ('comp', 'char'): 1, ('char', 'bored'): 1, ('bored', 'ape'): 1, ('ape', 'yacht'): 1, ('yacht', 'club'): 2, ('club', 'creator'): 1, ('creator', 'yuga'): 1, ('yuga', 'labs'): 1, ('labs', 'announced'): 1, ('announced', 'otherside'): 1, ('otherside', 'nft'): 1, ('nft', 'collection'): 1, ('collection', 'would'): 1, ('would', 'launch'): 1, ('launch', 'april'): 1, ('april', 'wa'): 1, ('wa', 'predicted'): 1, ('predicted', 'many'): 1, ('many', 'biggest'): 1, ('biggest', 'nft'): 1, ('nft', 'launch'): 1, ('launch', 'ever'): 1, ('ever', 'otherside'): 1, ('otherside', 'upcoming'): 1, ('upcoming', 'bore'): 1, ('bore', 'char'): 1, ('char', 'newsa'): 1, ('newsa', 'former'): 1, ('former', 'developer'): 1, ('developer', 'cryptocurrency'): 1, ('cryptocurrency', 'ethereum'): 1, ('ethereum', 'wa'): 1, ('wa', 'sentenced'): 1, ('sentenced', 'five'): 1, ('five', 'year'): 1, ('year', 'prison'): 1, ('prison', 'fined'): 1, ('fined', 'forhelping'): 1, ('forhelping', 'north'): 1, ('north', 'korea'): 1, ('korea', 'use'): 1, ('use', 'cryptos'): 1, ('cryptos', 'evade'): 1, ('evade', 'us'): 1, ('us', 'sanctionsper'): 1, ('sanctionsper', 'nbc'): 1, ('nbc', 'news'): 1, ('news', 'char'): 1, ('char', 'april'): 2, ('april', 'reuters'): 2, ('reuters', 'ether'): 1, ('ether', 'ha'): 1, ('ha', 'promised'): 2, ('promised', 'better'): 1, ('better', 'ha'): 1, ('promised', 'go'): 1, ('go', 'next'): 1, ('next', 'level'): 1, ('level', 'edging'): 1, ('edging', 'crypto'): 1, ('crypto', 'rival'): 1, ('rival', 'even'): 1, ('even', 'outshining'): 1, ('outshining', 'godfather'): 1, ('godfather', 'bitcoin'): 1, ('bitcoin', 'clock'): 1, ('clock', 'tickingthe'): 1, ('tickingthe', 'char'): 1, ('char', 'ethereum'): 1, ('ethereum', 'preparing'): 1, ('preparing', 'upgrade'): 1, ('upgrade', 'thats'): 1, ('thats', 'described'): 1, ('described', 'single'): 1, ('single', 'important'): 1, ('important', 'event'): 1, ('event', 'crypto'): 1, ('crypto', 'historythe'): 1, ('historythe', 'transition'): 1, ('transition', 'would'): 1, ('would', 'overhaul'): 1, ('overhaul', 'infrastructure'): 1, ('infrastructure', 'world'): 1, ('world', 'secondlargest'): 1, ('secondlargest', 'blockcha'): 1, ('blockcha', 'char'): 1, ('char', 'dogecoiners'): 1, ('dogecoiners', 'unite'): 1, ('unite', 'movie'): 1, ('movie', 'theater'): 1, ('theater', 'chain'): 1, ('chain', 'amc'): 1, ('amc', 'ha'): 1, ('ha', 'welcomed'): 1, ('welcomed', 'cryptocurrencies'): 1, ('cryptocurrencies', 'payment'): 1, ('payment', 'option'): 1, ('option', 'online'): 1, ('online', 'mobile'): 1, ('mobile', 'purchase'): 1, ('purchase', 'tweet'): 1, ('tweet', 'april'): 1, ('april', 'amc'): 1, ('amc', 'ceo'): 1, ('ceo', 'adam'): 1, ('adam', 'aron'): 1, ('aron', 'announced'): 1, ('announced', 'moviego'): 1, ('moviego', 'char'): 1, ('char', 'theres'): 1, ('theres', 'new'): 1, ('new', 'metaverse'): 1, ('metaverse', 'project'): 1, ('project', 'creator'): 1, ('creator', 'bored'): 1, ('bored', 'apes'): 1, ('apes', 'yacht'): 1, ('club', 'nfts'): 1, ('nfts', 'last'): 1, ('last', 'night'): 1, ('night', 'held'): 1, ('held', 'virtual'): 1, ('virtual', 'land'): 1, ('land', 'sale'): 1, ('sale', 'report'): 1, ('report', 'bloomberg'): 1, ('bloomberg', 'raising'): 1, ('raising', 'nearly'): 1, ('nearly', 'third'): 1, ('third', 'billion'): 1, ('billion', 'dollarsat'): 1, ('dollarsat', 'ab'): 1, ('ab', 'char'): 1, ('char', 'editorial'): 1, ('editorial', 'independencewe'): 1, ('independencewe', 'want'): 1, ('want', 'help'): 1, ('help', 'make'): 1, ('make', 'informed'): 1, ('informed', 'decision'): 1, ('decision', 'link'): 1, ('link', 'page'): 1, ('page', 'clearly'): 1, ('clearly', 'marked'): 1, ('marked', 'may'): 1, ('may', 'take'): 1, ('take', 'partner'): 1, ('partner', 'website'): 1, ('website', 'may'): 1, ('may', 'result'): 1, ('result', 'u'): 1, ('u', 'earning'): 1, ('earning', 'referral'): 1, ('referral', 'commission'): 1, ('commission', 'fo'): 1, ('fo', 'char'): 1, ('char', 'early'): 1, ('early', 'week'): 1, ('week', 'ukrainian'): 1, ('ukrainian', 'computer'): 1, ('computer', 'emergency'): 1, ('emergency', 'response'): 1, ('response', 'team'): 1, ('team', 'slovakian'): 1, ('slovakian', 'cybersecurity'): 1, ('cybersecurity', 'firm'): 1, ('firm', 'eset'): 1, ('eset', 'warned'): 1, ('warned', 'russias'): 1, ('russias', 'notorious'): 1, ('notorious', 'gru'): 1, ('gru', 'sandworm'): 1, ('sandworm', 'hacker'): 1, ('hacker', 'targeted'): 1, ('targeted', 'highvoltage'): 1, ('highvoltage', 'electrical'): 1, ('electrical', 'substati'): 1, ('substati', 'char'): 1, ('char', 'day'): 1, ('day', 'ago'): 1, ('ago', 'bitcoin'): 1, ('bitcoin', 'sold'): 1, ('sold', 'price'): 1, ('price', 'drop'): 1, ('drop', 'third'): 1, ('third', 'drop'): 1, ('drop', 'happened'): 1, ('happened', 'week'): 1, ('week', 'bitcoin'): 1, ('bitcoin', 'ethereum'): 1, ('ethereum', 'major'): 1, ('major', 'cryptocurrencies'): 1, ('cryptocurrencies', 'fallen'): 1, ('fallen', 'sharp'): 1, ('sharp', 'char'): 1, ('char', 'one'): 1, ('one', 'leading'): 1, ('leading', 'ethereum'): 1, ('ethereum', 'software'): 1, ('software', 'developer'): 1, ('developer', 'said'): 1, ('said', 'blockchain'): 1, ('blockchain', 'network'): 1, ('network', 'muchanticipated'): 1, ('muchanticipated', 'technical'): 1, ('technical', 'upgrade'): 1, ('upgrade', 'known'): 1, ('known', 'merge'): 1, ('merge', 'likely'): 1, ('likely', 'completed'): 1, ('completed', 'month'): 1, ('month', 'junethe'): 1, ('junethe', 'comment'): 1, ('comment', 'help'): 1, ('help', 'char'): 1, ('char', 'first'): 1, ('first', 'wrote'): 1, ('wrote', 'problem'): 1, ('problem', 'bot'): 1, ('bot', 'frontrunning'): 1, ('frontrunning', 'transaction'): 1, ('transaction', 'year'): 1, ('year', 'half'): 1, ('half', 'ago'): 1, ('ago', 'order'): 1, ('order', 'flow'): 1, ('flow', 'citing'): 1, ('citing', 'dan'): 1, ('dan', 'robinson'): 1, ('robinson', 'georgios'): 1, ('georgios', 'konstantopoulosethereum'): 1, ('konstantopoulosethereum', 'dark'): 1, ('dark', 'forest'): 1, ('forest', 'august'): 1, ('august', 'char'): 1, ('reuters', 'bitcoin'): 4, ('bitcoin', 'dropped'): 2, ('dropped', 'tuesday'): 1, ('tuesday', 'previous'): 1, ('previous', 'closebitcoin'): 4, ('closebitcoin', 'world'): 4, ('world', 'biggest'): 4, ('biggest', 'bestknown'): 4, ('bestknown', 'cryptocurrency'): 4, ('cryptocurrency', 'year'): 2, ('year', 'low'): 2, ('low', 'char'): 2, ('char', 'may'): 3, ('may', 'reuters'): 3, ('bitcoin', 'rose'): 1, ('rose', 'wednesday'): 1, ('wednesday', 'adding'): 1, ('adding', 'previous'): 1, ('bitcoin', 'fell'): 1, ('fell', 'gmt'): 1, ('gmt', 'wednesday'): 1, ('wednesday', 'losing'): 1, ('losing', 'previous'): 2, ('cryptocurrency', 'fro'): 1, ('fro', 'char'): 1, ('dropped', 'gmt'): 1, ('gmt', 'monday'): 1, ('monday', 'losing'): 1, ('cryptocurrency', 'char'): 1}\n"
     ]
    }
   ],
   "source": [
    "# Generate the Ethereum N-grams where N=2\n",
    "eth_token_list = [item for sublist in eth_tokens for item in sublist]\n",
    "\n",
    "eth_bigram_counts = Counter(ngrams(eth_token_list, n=2))\n",
    "\n",
    "print(dict(eth_bigram_counts))"
   ]
  },
  {
   "cell_type": "code",
   "execution_count": 139,
   "metadata": {},
   "outputs": [],
   "source": [
    "# Function token_count generates the top 10 words for a given coin\n",
    "def token_count(tokens, N=10):\n",
    "    \"\"\"Returns the top N tokens from the frequency count\"\"\"\n",
    "    return Counter(tokens).most_common(N)"
   ]
  },
  {
   "cell_type": "code",
   "execution_count": 140,
   "metadata": {},
   "outputs": [
    {
     "name": "stdout",
     "output_type": "stream",
     "text": [
      "{'char': 19, 'cryptocurrency': 12, 'bitcoin': 9, 'world': 6, 'ha': 5, 'week': 5, 'reuters': 5, 'online': 4, 'investor': 4, 'dropped': 4}\n"
     ]
    }
   ],
   "source": [
    "# Use token_count to get the top 10 words for Bitcoin\n",
    "print(dict(token_count(btc_token_list)))"
   ]
  },
  {
   "cell_type": "code",
   "execution_count": 141,
   "metadata": {},
   "outputs": [
    {
     "name": "stdout",
     "output_type": "stream",
     "text": [
      "{'char': 20, 'cryptocurrency': 8, 'bitcoin': 7, 'ha': 5, 'ethereum': 5, 'biggest': 5, 'reuters': 5, 'world': 5, 'may': 5, 'april': 4}\n"
     ]
    }
   ],
   "source": [
    "# Use token_count to get the top 10 words for Ethereum\n",
    "print(dict(token_count(eth_token_list)))"
   ]
  },
  {
   "cell_type": "markdown",
   "metadata": {},
   "source": [
    "---"
   ]
  },
  {
   "cell_type": "markdown",
   "metadata": {},
   "source": [
    "### Word Clouds\n",
    "\n",
    "In this section, you will generate word clouds for each coin to summarize the news for each coin"
   ]
  },
  {
   "cell_type": "code",
   "execution_count": null,
   "metadata": {},
   "outputs": [],
   "source": [
    "from wordcloud import WordCloud\n",
    "import matplotlib.pyplot as plt\n",
    "plt.style.use('seaborn-whitegrid')\n",
    "import matplotlib as mpl\n",
    "mpl.rcParams['figure.figsize'] = [20.0, 10.0]"
   ]
  },
  {
   "cell_type": "code",
   "execution_count": null,
   "metadata": {},
   "outputs": [],
   "source": [
    "# Generate the Bitcoin word cloud\n",
    "# YOUR CODE HERE!"
   ]
  },
  {
   "cell_type": "code",
   "execution_count": null,
   "metadata": {},
   "outputs": [],
   "source": [
    "# Generate the Ethereum word cloud\n",
    "# YOUR CODE HERE!"
   ]
  },
  {
   "cell_type": "markdown",
   "metadata": {},
   "source": [
    "---\n",
    "## 3. Named Entity Recognition\n",
    "\n",
    "In this section, you will build a named entity recognition model for both Bitcoin and Ethereum, then visualize the tags using SpaCy."
   ]
  },
  {
   "cell_type": "code",
   "execution_count": null,
   "metadata": {},
   "outputs": [],
   "source": [
    "import spacy\n",
    "from spacy import displacy"
   ]
  },
  {
   "cell_type": "code",
   "execution_count": null,
   "metadata": {},
   "outputs": [],
   "source": [
    "# Download the language model for SpaCy\n",
    "# !python -m spacy download en_core_web_sm"
   ]
  },
  {
   "cell_type": "code",
   "execution_count": null,
   "metadata": {},
   "outputs": [],
   "source": [
    "# Load the spaCy model\n",
    "nlp = spacy.load('en_core_web_sm')"
   ]
  },
  {
   "cell_type": "markdown",
   "metadata": {},
   "source": [
    "---\n",
    "### Bitcoin NER"
   ]
  },
  {
   "cell_type": "code",
   "execution_count": null,
   "metadata": {},
   "outputs": [],
   "source": [
    "# Concatenate all of the Bitcoin text together\n",
    "# YOUR CODE HERE!"
   ]
  },
  {
   "cell_type": "code",
   "execution_count": null,
   "metadata": {},
   "outputs": [],
   "source": [
    "# Run the NER processor on all of the text\n",
    "# YOUR CODE HERE!\n",
    "\n",
    "# Add a title to the document\n",
    "# YOUR CODE HERE!"
   ]
  },
  {
   "cell_type": "code",
   "execution_count": null,
   "metadata": {},
   "outputs": [],
   "source": [
    "# Render the visualization\n",
    "# YOUR CODE HERE!"
   ]
  },
  {
   "cell_type": "code",
   "execution_count": null,
   "metadata": {},
   "outputs": [],
   "source": [
    "# List all Entities\n",
    "# YOUR CODE HERE!"
   ]
  },
  {
   "cell_type": "markdown",
   "metadata": {},
   "source": [
    "---"
   ]
  },
  {
   "cell_type": "markdown",
   "metadata": {},
   "source": [
    "### Ethereum NER"
   ]
  },
  {
   "cell_type": "code",
   "execution_count": null,
   "metadata": {},
   "outputs": [],
   "source": [
    "# Concatenate all of the Ethereum text together\n",
    "# YOUR CODE HERE!"
   ]
  },
  {
   "cell_type": "code",
   "execution_count": null,
   "metadata": {},
   "outputs": [],
   "source": [
    "# Run the NER processor on all of the text\n",
    "# YOUR CODE HERE!\n",
    "\n",
    "# Add a title to the document\n",
    "# YOUR CODE HERE!"
   ]
  },
  {
   "cell_type": "code",
   "execution_count": null,
   "metadata": {},
   "outputs": [],
   "source": [
    "# Render the visualization\n",
    "# YOUR CODE HERE!"
   ]
  },
  {
   "cell_type": "code",
   "execution_count": null,
   "metadata": {},
   "outputs": [],
   "source": [
    "# List all Entities\n",
    "# YOUR CODE HERE!"
   ]
  }
 ],
 "metadata": {
  "file_extension": ".py",
  "kernelspec": {
   "display_name": "Python 3",
   "language": "python",
   "name": "python3"
  },
  "language_info": {
   "codemirror_mode": {
    "name": "ipython",
    "version": 3
   },
   "file_extension": ".py",
   "mimetype": "text/x-python",
   "name": "python",
   "nbconvert_exporter": "python",
   "pygments_lexer": "ipython3",
   "version": "3.9.7"
  },
  "mimetype": "text/x-python",
  "name": "python",
  "npconvert_exporter": "python",
  "pygments_lexer": "ipython3",
  "version": 3
 },
 "nbformat": 4,
 "nbformat_minor": 4
}
