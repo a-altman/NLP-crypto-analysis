{
 "cells": [
  {
   "cell_type": "markdown",
   "metadata": {},
   "source": [
    "# Unit 12 - Tales from the Crypto\n",
    "\n",
    "---\n"
   ]
  },
  {
   "cell_type": "markdown",
   "metadata": {},
   "source": [
    "## 1. Sentiment Analysis\n",
    "\n",
    "Use the [newsapi](https://newsapi.org/) to pull the latest news articles for Bitcoin and Ethereum and create a DataFrame of sentiment scores for each coin.\n",
    "\n",
    "Use descriptive statistics to answer the following questions:\n",
    "1. Which coin had the highest mean positive score?\n",
    "2. Which coin had the highest negative score?\n",
    "3. Which coin had the highest positive score?"
   ]
  },
  {
   "cell_type": "code",
   "execution_count": 3,
   "metadata": {},
   "outputs": [
    {
     "name": "stderr",
     "output_type": "stream",
     "text": [
      "[nltk_data] Downloading package vader_lexicon to\n",
      "[nltk_data]     C:\\Users\\altma\\AppData\\Roaming\\nltk_data...\n",
      "[nltk_data]   Package vader_lexicon is already up-to-date!\n"
     ]
    }
   ],
   "source": [
    "# Initial imports\n",
    "import os\n",
    "import pandas as pd\n",
    "from dotenv import load_dotenv\n",
    "import nltk as nltk\n",
    "nltk.download('vader_lexicon')\n",
    "from nltk.sentiment.vader import SentimentIntensityAnalyzer\n",
    "from newsapi import NewsApiClient\n",
    "analyzer = SentimentIntensityAnalyzer()\n",
    "\n",
    "%matplotlib inline"
   ]
  },
  {
   "cell_type": "code",
   "execution_count": 2,
   "metadata": {},
   "outputs": [],
   "source": [
    "# Read your api key environment variable\n",
    "load_dotenv()\n",
    "\n",
    "news_api_key = os.getenv(\"NEWS_API_KEY\")"
   ]
  },
  {
   "cell_type": "code",
   "execution_count": 4,
   "metadata": {},
   "outputs": [],
   "source": [
    "# Create a newsapi client\n",
    "newsapi = NewsApiClient(api_key=news_api_key)"
   ]
  },
  {
   "cell_type": "code",
   "execution_count": 5,
   "metadata": {},
   "outputs": [],
   "source": [
    "# Fetch the Bitcoin news articles\n",
    "btc_articles = newsapi.get_everything(\n",
    "    q=\"Bitcoin\",\n",
    "    language=\"en\",\n",
    "    sort_by=\"relevancy\"\n",
    ")"
   ]
  },
  {
   "cell_type": "code",
   "execution_count": 7,
   "metadata": {},
   "outputs": [],
   "source": [
    "# Fetch the Ethereum news articles\n",
    "eth_articles = newsapi.get_everything(\n",
    "    q=\"Ethereum\",\n",
    "    language=\"en\",\n",
    "    sort_by=\"relevancy\"\n",
    ")"
   ]
  },
  {
   "cell_type": "code",
   "execution_count": 19,
   "metadata": {},
   "outputs": [
    {
     "data": {
      "text/plain": [
       "{'status': 'ok',\n",
       " 'totalResults': 4715,\n",
       " 'articles': [{'source': {'id': 'the-verge', 'name': 'The Verge'},\n",
       "   'author': 'Emma Roth',\n",
       "   'title': 'US blames North Korean hacker group for $625 million Axie Infinity theft',\n",
       "   'description': 'The US Department of Treasury has attributed the $625 Axie Infinity theft to Lazarus, a North Korean hacking group with ties to the country’s intelligence agency.',\n",
       "   'url': 'https://www.theverge.com/2022/4/14/23025739/north-korean-hacker-lazarus-axie-infinity-cryptocurrency-hack-theft-us-blames',\n",
       "   'urlToImage': 'https://cdn.vox-cdn.com/thumbor/n8TGCqcud7UHPIbtgxLi10Owa5I=/0x52:1018x585/fit-in/1200x630/cdn.vox-cdn.com/uploads/chorus_asset/file/23374959/Screen_Shot_2022_03_30_at_10.10.00_AM.png',\n",
       "   'publishedAt': '2022-04-14T21:43:57Z',\n",
       "   'content': 'The US Department of Treasury says Lazarus is behind the attack\\r\\nThe US Treasury Department blames North Korean hacking group Lazarus for stealing $625 million in cryptocurrency from the Ronin networ… [+1853 chars]'},\n",
       "  {'source': {'id': 'ars-technica', 'name': 'Ars Technica'},\n",
       "   'author': 'Timothy B. Lee',\n",
       "   'title': 'Wikipedia community votes to stop accepting cryptocurrency donations',\n",
       "   'description': 'Critics argue the bitcoin and ethereum networks consume too much energy.',\n",
       "   'url': 'https://arstechnica.com/tech-policy/2022/04/wikipedia-community-votes-to-stop-accepting-cryptocurrency-donations/',\n",
       "   'urlToImage': 'https://cdn.arstechnica.net/wp-content/uploads/2022/04/GettyImages-922703938-760x380.jpg',\n",
       "   'publishedAt': '2022-04-13T16:35:03Z',\n",
       "   'content': '18 with 15 posters participating, including story author\\r\\nMore than 200 long-time Wikipedia editors have requested that the Wikimedia Foundation stop accepting cryptocurrency donations.\\xa0The foundatio… [+4016 chars]'},\n",
       "  {'source': {'id': 'engadget', 'name': 'Engadget'},\n",
       "   'author': 'Mariella Moon',\n",
       "   'title': \"Opera's crypto browser is now available on iOS\",\n",
       "   'description': 'Opera launched its dedicated \"Crypto Browser\" into beta back in January, promising to make Web3 as accessible as any Web2 website. The company released the browser for Windows, Mac and Android users back then, but the version for iOS devices still wasn\\'t read…',\n",
       "   'url': 'https://www.engadget.com/operas-crypto-browser-ios-113713720.html',\n",
       "   'urlToImage': 'https://s.yimg.com/os/creatr-uploaded-images/2022-04/d7564890-bca3-11ec-b7ff-a905e1f2a795',\n",
       "   'publishedAt': '2022-04-15T11:37:13Z',\n",
       "   'content': 'Opera launched its dedicated \"Crypto Browser\" into beta back in January, promising to make Web3 as accessible as any Web2 website. The company released the browser for Windows, Mac and Android users … [+1563 chars]'},\n",
       "  {'source': {'id': None, 'name': 'The Guardian'},\n",
       "   'author': 'Alex Hern',\n",
       "   'title': 'Yuga Labs apologises after sale of virtual land crashes Ethereum',\n",
       "   'description': 'Demand for plots of land in multiplayer game Otherside was so high it overwhelmed the Ethereum blockchainA multi-billion dollar cryptocurrency company has apologised to users after its sale of “metaverse land” sparked a frenzy that temporarily brought down th…',\n",
       "   'url': 'https://amp.theguardian.com/technology/2022/may/02/yuga-labs-apologises-after-sale-of-virtual-land-crashes-ethereum',\n",
       "   'urlToImage': 'https://i.guim.co.uk/img/media/e6382b02449503a6456ab870dbc394d5752212ad/0_117_3500_2101/master/3500.jpg?width=1200&height=630&quality=85&auto=format&fit=crop&overlay-align=bottom%2Cleft&overlay-width=100p&overlay-base64=L2ltZy9zdGF0aWMvb3ZlcmxheXMvdGctZGVmYXVsdC5wbmc&enable=upscale&s=c33681237b4c480f24dfa73e196af8af',\n",
       "   'publishedAt': '2022-05-02T15:54:35Z',\n",
       "   'content': 'A multi-billion dollar cryptocurrency company has apologised to users after its sale of metaverse land sparked a frenzy that temporarily brought down the Ethereum cryptocurrency.\\r\\nYuga Labs, the comp… [+3475 chars]'},\n",
       "  {'source': {'id': None, 'name': 'CNET'},\n",
       "   'author': 'Daniel Van Boom',\n",
       "   'title': 'How Bored Ape Yacht Club Broke Ethereum - CNET',\n",
       "   'description': 'Transactions stalled for hours, and people paid thousands in fees whether their purchase succeeded or not.',\n",
       "   'url': 'https://www.cnet.com/personal-finance/crypto/how-bored-ape-yacht-club-broke-ethereum/',\n",
       "   'urlToImage': 'https://www.cnet.com/a/img/resize/ec8610207cf749f84654799866cb67699ac91a6d/2022/05/01/9c9ba1e1-519b-4e61-a12a-f3faa5d2f1a0/otherside-launch-image-rc1.jpg?auto=webp&fit=crop&height=630&width=1200',\n",
       "   'publishedAt': '2022-05-04T02:32:00Z',\n",
       "   'content': 'When Bored Ape Yacht Club creators Yuga Labs announced its Otherside NFT collection would launch on April 30, it was predicted by many to be the biggest NFT launch ever. Otherside is an upcoming Bore… [+6669 chars]'},\n",
       "  {'source': {'id': 'business-insider', 'name': 'Business Insider'},\n",
       "   'author': 'insider@insider.com (Will Paige)',\n",
       "   'title': 'Jailed US Ethereum developer sets example for those using crypto to dodge sanctions',\n",
       "   'description': 'An Ethereum developer was sentenced to more than five years in prison and fined $100,000 for helping North Korea use cryptos to evade US sanctions.',\n",
       "   'url': 'https://www.businessinsider.com/ethereum-developer-sentenced-for-helping-north-korea-evade-sanctions-2022-4',\n",
       "   'urlToImage': 'https://i.insider.com/62582f888b169c0018f36bc0?width=1200&format=jpeg',\n",
       "   'publishedAt': '2022-04-14T14:31:18Z',\n",
       "   'content': 'The news:\\xa0A former developer of the cryptocurrency Ethereum was sentenced to more than five years in prison and fined $100,000 for\\xa0helping North Korea use cryptos to evade US sanctions,\\xa0per NBC News.… [+2438 chars]'},\n",
       "  {'source': {'id': 'reuters', 'name': 'Reuters'},\n",
       "   'author': None,\n",
       "   'title': \"Cryptoverse: Ether prepares for epic 'merge' in quest to eclipse bitcoin - Reuters.com\",\n",
       "   'description': \"Ether has promised to do better. It has promised to go to the next level, edging out crypto rivals and even outshining the godfather, bitcoin. But the clock's ticking.\",\n",
       "   'url': 'https://www.reuters.com/business/cryptoverse-ether-prepares-epic-merge-quest-eclipse-bitcoin-2022-04-26/',\n",
       "   'urlToImage': 'https://www.reuters.com/resizer/Xpd4XRkm7eEYPo9_LKBQhpcDyBo=/1200x628/smart/filters:quality(80)/cloudfront-us-east-2.images.arcpublishing.com/reuters/PKJQY4TBEVMRZNVN3OPZ7XHXLY.jpg',\n",
       "   'publishedAt': '2022-04-26T05:15:00Z',\n",
       "   'content': \"April 26 (Reuters) - Ether has promised to do better. It has promised to go to the next level, edging out crypto rivals and even outshining the godfather, bitcoin. But the clock's ticking.\\r\\nThe No.2 … [+4092 chars]\"},\n",
       "  {'source': {'id': 'the-next-web', 'name': 'The Next Web'},\n",
       "   'author': 'Thomas Macaulay',\n",
       "   'title': 'What is the Ethereum merge and how could it make crypto greener?',\n",
       "   'description': 'Ethereum is preparing for an upgrade that’s been described as “the single most important event in crypto history.” The transition would overhaul the infrastructure of the world’s second-largest blockchain. Analysts predict the changes could cut the network’s …',\n",
       "   'url': 'https://thenextweb.com/news/what-is-ethereum-merge-when-will-it-happen-how-will-it-make-crypto-greener',\n",
       "   'urlToImage': 'https://img-cdn.tnwcdn.com/image/hardfork?filter_last=1&fit=1280%2C640&url=https%3A%2F%2Fcdn0.tnwcdn.com%2Fwp-content%2Fblogs.dir%2F1%2Ffiles%2F2022%2F04%2FUntitled-design-2-5.jpg&signature=616dbebe0be728ef3c201fb0415eaee8',\n",
       "   'publishedAt': '2022-04-26T20:45:44Z',\n",
       "   'content': 'Ethereum is preparing for an upgrade thats been described as the single most important event in crypto history.\\r\\nThe transition would overhaul the infrastructure of the worlds second-largest blockcha… [+2824 chars]'},\n",
       "  {'source': {'id': None, 'name': 'Lifehacker.com'},\n",
       "   'author': 'Pranay Parab',\n",
       "   'title': 'Change These Settings to Make the Brave Browser Even More Private',\n",
       "   'description': 'The Brave Browser promotes itself as a Google Chrome alternative focused on privacy, but its default settings aren’t the most privacy friendly. If you need to use a Chrome-based browser, Brave is definitely a better option than what Google offers, but with a …',\n",
       "   'url': 'https://lifehacker.com/change-these-settings-to-make-the-brave-browser-even-mo-1848763348',\n",
       "   'urlToImage': 'https://i.kinja-img.com/gawker-media/image/upload/c_fill,f_auto,fl_progressive,g_center,h_675,pg_1,q_80,w_1200/01381a080c579630dc5b17666ef95eef.jpg',\n",
       "   'publishedAt': '2022-04-07T18:30:00Z',\n",
       "   'content': 'The Brave Browser promotes itself as a Google Chrome alternative focused on privacy, but its default settings arent the most privacy friendly. If you need to use a Chrome-based browser, Brave is defi… [+3493 chars]'},\n",
       "  {'source': {'id': None, 'name': 'Gizmodo.com'},\n",
       "   'author': 'Kevin Hurler',\n",
       "   'title': 'You Can Now Go See Fantastic Beasts With Dogecoin at AMC Theaters',\n",
       "   'description': 'Dogecoiners unite! Movie theater chain AMC has welcomed some more cryptocurrencies as payment options for online and mobile purchases. In a tweet on April 15, AMC CEO Adam Aron announced that moviegoers can now pay for movie tickets and concessions using Doge…',\n",
       "   'url': 'https://gizmodo.com/you-can-now-go-see-fantastic-beasts-with-dogecoin-at-am-1848805758',\n",
       "   'urlToImage': 'https://i.kinja-img.com/gawker-media/image/upload/c_fill,f_auto,fl_progressive,g_center,h_675,pg_1,q_80,w_1200/9c1a5c315585258a257319589a2c2bf5.jpg',\n",
       "   'publishedAt': '2022-04-18T20:30:00Z',\n",
       "   'content': 'Dogecoiners unite! Movie theater chain AMC has welcomed some more cryptocurrencies as payment options for online and mobile purchases. In a tweet on April 15, AMC CEO Adam Aron announced that moviego… [+1603 chars]'},\n",
       "  {'source': {'id': None, 'name': 'Slashdot.org'},\n",
       "   'author': 'EditorDavid',\n",
       "   'title': \"Sale of Bored Apes' Metaverse Land Made Gas Fees Skyrocket Past $3,000\",\n",
       "   'description': 'There\\'s a new metaverse project from the creators of the \"Bored Apes Yacht Club\" NFTs. Last night they held a \"virtual land\" sale, reports Bloomberg, raising nearly a third of a billion dollars. \\nAt about the same time, Mashable :\\n\\nIf you were trying to compl…',\n",
       "   'url': 'https://tech.slashdot.org/story/22/05/01/2256252/sale-of-bored-apes-metaverse-land-made-gas-fees-skyrocket-past-3000',\n",
       "   'urlToImage': 'https://a.fsdn.com/sd/topics/social_64.png',\n",
       "   'publishedAt': '2022-05-01T22:59:00Z',\n",
       "   'content': 'There\\'s a new metaverse project from the creators of the \"Bored Apes Yacht Club\" NFTs. Last night they held a \"virtual land\" sale, reports Bloomberg, raising nearly a third of a billion dollars.At ab… [+2023 chars]'},\n",
       "  {'source': {'id': 'wired', 'name': 'Wired'},\n",
       "   'author': 'Lily Hay Newman',\n",
       "   'title': \"North Korea's Lazarus Group Was Behind $540 Million Ronin Theft\",\n",
       "   'description': 'Plus: Spyware maker NSO Group deemed “valueless,” T-Mobile fails to buy its stolen data, and malware spreads on Telegram.',\n",
       "   'url': 'https://www.wired.com/story/ronin-hack-lazarus-tmobile-breach-data-malware-telegram/',\n",
       "   'urlToImage': 'https://media.wired.com/photos/6259f5df0f68d976e2565a8a/191:100/w_1280,c_limit/security-roundup-nk.jpg',\n",
       "   'publishedAt': '2022-04-16T13:00:00Z',\n",
       "   'content': \"Early this week, the Ukrainian Computer Emergency Response Team and Slovakian cybersecurity firm ESET warned that Russia's notorious GRU Sandworm hackers had targeted high-voltage electrical substati… [+3937 chars]\"},\n",
       "  {'source': {'id': 'time', 'name': 'Time'},\n",
       "   'author': 'David Pan/Bloomberg',\n",
       "   'title': 'Ethereum Takes Another Step Towards a Highly-Anticipated Upgrade',\n",
       "   'description': 'The network’s developers had launched a stress test for the new upcoming software. Some Ethereum miners are betting on another delay.',\n",
       "   'url': 'https://time.com/6166507/ethereum-merge-upgrade/',\n",
       "   'urlToImage': 'https://api.time.com/wp-content/uploads/2022/04/ethereum-upgrade-later-than-june-2.jpg?quality=85&w=1200&h=628&crop=1',\n",
       "   'publishedAt': '2022-04-13T20:35:03Z',\n",
       "   'content': 'One of the leading Ethereum software developers said the blockchain network’s much-anticipated technical upgrade known as the Merge will likely be completed a few months after June.\\r\\nThe comment help… [+1965 chars]'},\n",
       "  {'source': {'id': None, 'name': 'Dshr.org'},\n",
       "   'author': 'David.',\n",
       "   'title': 'Ethereum Has Issues',\n",
       "   'description': 'I first wrote about the problem of bots front-running transactions a year and a half ago in The Order Flow , citing Dan Robinson and Georgio...',\n",
       "   'url': 'https://blog.dshr.org/2022/04/ethereum-has-issues.html',\n",
       "   'urlToImage': 'https://blogger.googleusercontent.com/img/b/R29vZ2xl/AVvXsEjvSCxRy5qtPS5sGBOpfX2Ar2RH9uWBqKNoHH3toPJx4YR6ttIqIL1DrxeRZsz8xWBkzYMCDX1XtWyX1G6SrQNJsjsmKpQgbYM3k3iyknfbZRX0b3g2xc9rnC7xBXs6H-ps04gYWqcD_wUTT6B-0XbP1NCV0pzVx7LOZsrcoU31X8paMbhHh5p0LNhr5Q/w1200-h630-p-k-no-nu/DaianFig11.png',\n",
       "   'publishedAt': '2022-04-14T16:46:48Z',\n",
       "   'content': \"I first wrote about the problem of bots front-running transactions a year and a half ago in The Order Flow, citing Dan Robinson and Georgios Konstantopoulos'\\r\\nEthereum is a Dark Forest from August 20… [+23406 chars]\"},\n",
       "  {'source': {'id': 'reuters', 'name': 'Reuters'},\n",
       "   'author': None,\n",
       "   'title': 'Bitcoin last down 5.1% at $38391.36 - Reuters.com',\n",
       "   'description': 'Bitcoin dropped 5.1% to $38,391.36 on Tuesday, down $2,229.82 from its previous close.',\n",
       "   'url': 'https://www.reuters.com/technology/bitcoin-last-down-51-3839136-2022-04-26/',\n",
       "   'urlToImage': 'https://www.reuters.com/resizer/Gp-bLvBDv3-2g6-hsKYIWV0KicU=/1200x628/smart/filters:quality(80)/cloudfront-us-east-2.images.arcpublishing.com/reuters/BT3DV4I6BJNQBL3JI4HWYNGSYQ.jpg',\n",
       "   'publishedAt': '2022-04-26T20:22:00Z',\n",
       "   'content': \"April 26 (Reuters) - Bitcoin dropped 5.1% to $38,391.36 on Tuesday, down $2,229.82 from its previous close.\\r\\nBitcoin, the world's biggest and best-known cryptocurrency, is up 16% from the year's low … [+339 chars]\"},\n",
       "  {'source': {'id': 'reuters', 'name': 'Reuters'},\n",
       "   'author': None,\n",
       "   'title': 'Bitcoin last up 5.7% at $39862.84 - Reuters.com',\n",
       "   'description': 'Bitcoin rose 5.7% to $39,862.84, on Wednesday, adding $2,102.94 to its previous close.',\n",
       "   'url': 'https://www.reuters.com/business/bitcoin-last-up-57-3986284-2022-05-04/',\n",
       "   'urlToImage': 'https://www.reuters.com/resizer/BWWUiBev3PUU7DomJJXE2-Iqz30=/1200x628/smart/filters:quality(80)/cloudfront-us-east-2.images.arcpublishing.com/reuters/OZ6CVP422VIJ5A6UACI72VHUSY.jpg',\n",
       "   'publishedAt': '2022-05-04T20:16:00Z',\n",
       "   'content': \"May 4 (Reuters) - Bitcoin rose 5.7% to $39,862.84, on Wednesday, adding $2,102.94 to its previous close.\\r\\nBitcoin, the world's biggest and best-known cryptocurrency, is up 20.9% from the year's low o… [+337 chars]\"},\n",
       "  {'source': {'id': 'the-next-web', 'name': 'The Next Web'},\n",
       "   'author': 'Ivan Mehta',\n",
       "   'title': 'How the BAYC metaverse mint raised Ethereum gas fees to thousands of dollars',\n",
       "   'description': 'If you ever wanted to buy an NFT based on Ethereum, you would have to pay a transaction fee to register it on the blockchain. Last week, that fee skyrocketed to unprecedented levels. So you might have had to pay thousands of dollars as fees to get an NFT that…',\n",
       "   'url': 'https://thenextweb.com/news/bayc-metaverse-otherside-mint-gas-fees-analysis',\n",
       "   'urlToImage': 'https://img-cdn.tnwcdn.com/image/hardfork?filter_last=1&fit=1280%2C640&url=https%3A%2F%2Fcdn0.tnwcdn.com%2Fwp-content%2Fblogs.dir%2F1%2Ffiles%2F2022%2F05%2FOtherside-nft.jpg&signature=a5fe37575e1fe4a83069c67eddf3dc7d',\n",
       "   'publishedAt': '2022-05-02T12:17:07Z',\n",
       "   'content': 'If you ever wanted to buy an NFT based on Ethereum, you would have to pay a transaction fee to register it on the blockchain. Last week, that fee skyrocketed to unprecedented levels.\\r\\nSo you might ha… [+7216 chars]'},\n",
       "  {'source': {'id': 'reuters', 'name': 'Reuters'},\n",
       "   'author': None,\n",
       "   'title': 'U.S. crypto researcher sentenced to five years for helping North Korea evade sanctions - Reuters',\n",
       "   'description': 'A former researcher at a high-profile cryptocurrency group was sentenced to five years and three months in prison on Tuesday for conspiring to help North Korea evade U.S. sanctions using cryptocurrency, federal prosecutors in Manhattan said.',\n",
       "   'url': 'https://www.reuters.com/world/us-crypto-researcher-sentenced-five-years-helping-north-korea-evade-sanctions-2022-04-12/',\n",
       "   'urlToImage': 'https://www.reuters.com/pf/resources/images/reuters/reuters-default.png?d=82',\n",
       "   'publishedAt': '2022-04-12T22:07:00Z',\n",
       "   'content': 'April 12 (Reuters) - A former researcher at a high-profile cryptocurrency group was sentenced to five years and three months in prison on Tuesday for conspiring to help North Korea evade U.S. sanctio… [+2083 chars]'},\n",
       "  {'source': {'id': None, 'name': 'Slashdot.org'},\n",
       "   'author': 'BeauHD',\n",
       "   'title': 'Robinhood Releases Crypto Wallet To 2 Million Users, Plans Integration With Bitcoin Lightning Network',\n",
       "   'description': 'Robinhood Markets (HOOD) said Thursday it has activated its crypto wallet for 2 million \"eligible\" customers, making digital asset transfers broadly possible in the long-firewalled investments app. CoinDesk reports: Chief Product Officer Aparna Chennapragada …',\n",
       "   'url': 'https://slashdot.org/story/22/04/07/2056240/robinhood-releases-crypto-wallet-to-2-million-users-plans-integration-with-bitcoin-lightning-network',\n",
       "   'urlToImage': 'https://a.fsdn.com/sd/topics/bitcoin_64.png',\n",
       "   'publishedAt': '2022-04-07T23:20:00Z',\n",
       "   'content': 'Chief Product Officer Aparna Chennapragada made the announcement on stage at the Bitcoin 2022 conference in Miami. Only a handful of wallet beta testers could move bitcoin (BTC), ether (ETH), dogecoi… [+1639 chars]'},\n",
       "  {'source': {'id': 'business-insider', 'name': 'Business Insider'},\n",
       "   'author': 'bevans@insider.com (Brian Evans)',\n",
       "   'title': \"ApeCoin dips 16% following Bored Ape Yacht Club creator's landmark metaverse NFT sale\",\n",
       "   'description': 'The skid follows a massive NFT sale from Bored Ape Yacht Club creator Yuga Labs for its metaverse game \"Otherside.\"',\n",
       "   'url': 'https://markets.businessinsider.com/news/currencies/apecoin-price-bored-ape-yacht-club-yuga-labs-metaverse-sale-2022-5',\n",
       "   'urlToImage': 'https://i.insider.com/622f3dd2843ef30018e6ddab?width=1200&format=jpeg',\n",
       "   'publishedAt': '2022-05-02T19:03:32Z',\n",
       "   'content': 'ApeCoin, the native cryptocurrency of the APE Ecosystem, slid 16% Monday in a viciously volatile trading session.\\r\\nTokens were trading at $14.60 per token at presstime. The crypto is often linked wit… [+1515 chars]'}]}"
      ]
     },
     "execution_count": 19,
     "metadata": {},
     "output_type": "execute_result"
    }
   ],
   "source": [
    "eth_articles"
   ]
  },
  {
   "cell_type": "code",
   "execution_count": 15,
   "metadata": {},
   "outputs": [
    {
     "data": {
      "text/html": [
       "<div>\n",
       "<style scoped>\n",
       "    .dataframe tbody tr th:only-of-type {\n",
       "        vertical-align: middle;\n",
       "    }\n",
       "\n",
       "    .dataframe tbody tr th {\n",
       "        vertical-align: top;\n",
       "    }\n",
       "\n",
       "    .dataframe thead th {\n",
       "        text-align: right;\n",
       "    }\n",
       "</style>\n",
       "<table border=\"1\" class=\"dataframe\">\n",
       "  <thead>\n",
       "    <tr style=\"text-align: right;\">\n",
       "      <th></th>\n",
       "      <th>date</th>\n",
       "      <th>text</th>\n",
       "      <th>compound</th>\n",
       "      <th>positive</th>\n",
       "      <th>negative</th>\n",
       "      <th>neutral</th>\n",
       "    </tr>\n",
       "  </thead>\n",
       "  <tbody>\n",
       "    <tr>\n",
       "      <th>0</th>\n",
       "      <td>2022-05-04</td>\n",
       "      <td>A Bitcoin mining site powered by otherwise los...</td>\n",
       "      <td>-0.0516</td>\n",
       "      <td>0.056</td>\n",
       "      <td>0.061</td>\n",
       "      <td>0.882</td>\n",
       "    </tr>\n",
       "    <tr>\n",
       "      <th>1</th>\n",
       "      <td>2022-04-08</td>\n",
       "      <td>Its set to open later this year\\r\\nIf you buy ...</td>\n",
       "      <td>-0.4404</td>\n",
       "      <td>0.000</td>\n",
       "      <td>0.081</td>\n",
       "      <td>0.919</td>\n",
       "    </tr>\n",
       "    <tr>\n",
       "      <th>2</th>\n",
       "      <td>2022-04-14</td>\n",
       "      <td>Wikipedia editors have voted in favor of dropp...</td>\n",
       "      <td>0.4019</td>\n",
       "      <td>0.088</td>\n",
       "      <td>0.000</td>\n",
       "      <td>0.912</td>\n",
       "    </tr>\n",
       "    <tr>\n",
       "      <th>3</th>\n",
       "      <td>2022-05-02</td>\n",
       "      <td>Warren Buffett has always been a bitcoin skept...</td>\n",
       "      <td>-0.3269</td>\n",
       "      <td>0.085</td>\n",
       "      <td>0.143</td>\n",
       "      <td>0.772</td>\n",
       "    </tr>\n",
       "    <tr>\n",
       "      <th>4</th>\n",
       "      <td>2022-05-05</td>\n",
       "      <td>If youve ever felt like introducing some Vegas...</td>\n",
       "      <td>0.7506</td>\n",
       "      <td>0.193</td>\n",
       "      <td>0.000</td>\n",
       "      <td>0.807</td>\n",
       "    </tr>\n",
       "  </tbody>\n",
       "</table>\n",
       "</div>"
      ],
      "text/plain": [
       "         date                                               text  compound  \\\n",
       "0  2022-05-04  A Bitcoin mining site powered by otherwise los...   -0.0516   \n",
       "1  2022-04-08  Its set to open later this year\\r\\nIf you buy ...   -0.4404   \n",
       "2  2022-04-14  Wikipedia editors have voted in favor of dropp...    0.4019   \n",
       "3  2022-05-02  Warren Buffett has always been a bitcoin skept...   -0.3269   \n",
       "4  2022-05-05  If youve ever felt like introducing some Vegas...    0.7506   \n",
       "\n",
       "   positive  negative  neutral  \n",
       "0     0.056     0.061    0.882  \n",
       "1     0.000     0.081    0.919  \n",
       "2     0.088     0.000    0.912  \n",
       "3     0.085     0.143    0.772  \n",
       "4     0.193     0.000    0.807  "
      ]
     },
     "execution_count": 15,
     "metadata": {},
     "output_type": "execute_result"
    }
   ],
   "source": [
    "# Create the Bitcoin sentiment scores DataFrame\n",
    "btc_sentiments = []\n",
    "\n",
    "for article in btc_articles[\"articles\"]:\n",
    "    try:\n",
    "        text = article[\"content\"]\n",
    "        date = article[\"publishedAt\"][:10]\n",
    "        sentiment = analyzer.polarity_scores(text)\n",
    "        compound = sentiment[\"compound\"]\n",
    "        pos = sentiment[\"pos\"]\n",
    "        neu = sentiment[\"neu\"]\n",
    "        neg = sentiment[\"neg\"]\n",
    "        \n",
    "        btc_sentiments.append({\n",
    "            \"text\": text,\n",
    "            \"date\": date,\n",
    "            \"compound\": compound,\n",
    "            \"positive\": pos,\n",
    "            \"negative\": neg,\n",
    "            \"neutral\": neu\n",
    "            \n",
    "        })\n",
    "        \n",
    "    except AttributeError:\n",
    "        pass\n",
    "    \n",
    "# Create DataFrame\n",
    "btc_df = pd.DataFrame(btc_sentiments)\n",
    "\n",
    "# Reorder DataFrame columns\n",
    "cols = [\"date\", \"text\", \"compound\", \"positive\", \"negative\", \"neutral\"]\n",
    "btc_df = btc_df[cols]\n",
    "\n",
    "btc_df.head()"
   ]
  },
  {
   "cell_type": "code",
   "execution_count": 16,
   "metadata": {},
   "outputs": [
    {
     "data": {
      "text/html": [
       "<div>\n",
       "<style scoped>\n",
       "    .dataframe tbody tr th:only-of-type {\n",
       "        vertical-align: middle;\n",
       "    }\n",
       "\n",
       "    .dataframe tbody tr th {\n",
       "        vertical-align: top;\n",
       "    }\n",
       "\n",
       "    .dataframe thead th {\n",
       "        text-align: right;\n",
       "    }\n",
       "</style>\n",
       "<table border=\"1\" class=\"dataframe\">\n",
       "  <thead>\n",
       "    <tr style=\"text-align: right;\">\n",
       "      <th></th>\n",
       "      <th>date</th>\n",
       "      <th>text</th>\n",
       "      <th>compound</th>\n",
       "      <th>positive</th>\n",
       "      <th>negative</th>\n",
       "      <th>neutral</th>\n",
       "    </tr>\n",
       "  </thead>\n",
       "  <tbody>\n",
       "    <tr>\n",
       "      <th>0</th>\n",
       "      <td>2022-04-14</td>\n",
       "      <td>The US Department of Treasury says Lazarus is ...</td>\n",
       "      <td>-0.7845</td>\n",
       "      <td>0.088</td>\n",
       "      <td>0.231</td>\n",
       "      <td>0.681</td>\n",
       "    </tr>\n",
       "    <tr>\n",
       "      <th>1</th>\n",
       "      <td>2022-04-13</td>\n",
       "      <td>18 with 15 posters participating, including st...</td>\n",
       "      <td>0.1027</td>\n",
       "      <td>0.084</td>\n",
       "      <td>0.071</td>\n",
       "      <td>0.844</td>\n",
       "    </tr>\n",
       "    <tr>\n",
       "      <th>2</th>\n",
       "      <td>2022-04-15</td>\n",
       "      <td>Opera launched its dedicated \"Crypto Browser\" ...</td>\n",
       "      <td>0.7351</td>\n",
       "      <td>0.188</td>\n",
       "      <td>0.000</td>\n",
       "      <td>0.812</td>\n",
       "    </tr>\n",
       "    <tr>\n",
       "      <th>3</th>\n",
       "      <td>2022-05-02</td>\n",
       "      <td>A multi-billion dollar cryptocurrency company ...</td>\n",
       "      <td>-0.2263</td>\n",
       "      <td>0.046</td>\n",
       "      <td>0.075</td>\n",
       "      <td>0.879</td>\n",
       "    </tr>\n",
       "    <tr>\n",
       "      <th>4</th>\n",
       "      <td>2022-05-04</td>\n",
       "      <td>When Bored Ape Yacht Club creators Yuga Labs a...</td>\n",
       "      <td>-0.2732</td>\n",
       "      <td>0.000</td>\n",
       "      <td>0.055</td>\n",
       "      <td>0.945</td>\n",
       "    </tr>\n",
       "  </tbody>\n",
       "</table>\n",
       "</div>"
      ],
      "text/plain": [
       "         date                                               text  compound  \\\n",
       "0  2022-04-14  The US Department of Treasury says Lazarus is ...   -0.7845   \n",
       "1  2022-04-13  18 with 15 posters participating, including st...    0.1027   \n",
       "2  2022-04-15  Opera launched its dedicated \"Crypto Browser\" ...    0.7351   \n",
       "3  2022-05-02  A multi-billion dollar cryptocurrency company ...   -0.2263   \n",
       "4  2022-05-04  When Bored Ape Yacht Club creators Yuga Labs a...   -0.2732   \n",
       "\n",
       "   positive  negative  neutral  \n",
       "0     0.088     0.231    0.681  \n",
       "1     0.084     0.071    0.844  \n",
       "2     0.188     0.000    0.812  \n",
       "3     0.046     0.075    0.879  \n",
       "4     0.000     0.055    0.945  "
      ]
     },
     "execution_count": 16,
     "metadata": {},
     "output_type": "execute_result"
    }
   ],
   "source": [
    "# Create the Ethereum sentiment scores DataFrame\n",
    "eth_sentiments = []\n",
    "\n",
    "for article in eth_articles[\"articles\"]:\n",
    "    try:\n",
    "        text = article[\"content\"]\n",
    "        date = article[\"publishedAt\"][:10]\n",
    "        sentiment = analyzer.polarity_scores(text)\n",
    "        compound = sentiment[\"compound\"]\n",
    "        pos = sentiment[\"pos\"]\n",
    "        neu = sentiment[\"neu\"]\n",
    "        neg = sentiment[\"neg\"]\n",
    "        \n",
    "        eth_sentiments.append({\n",
    "            \"text\": text,\n",
    "            \"date\": date,\n",
    "            \"compound\": compound,\n",
    "            \"positive\": pos,\n",
    "            \"negative\": neg,\n",
    "            \"neutral\": neu\n",
    "            \n",
    "        })\n",
    "        \n",
    "    except AttributeError:\n",
    "        pass\n",
    "    \n",
    "# Create DataFrame\n",
    "eth_df = pd.DataFrame(eth_sentiments)\n",
    "\n",
    "# Reorder DataFrame columns\n",
    "cols = [\"date\", \"text\", \"compound\", \"positive\", \"negative\", \"neutral\"]\n",
    "eth_df = eth_df[cols]\n",
    "\n",
    "eth_df.head()"
   ]
  },
  {
   "cell_type": "code",
   "execution_count": 17,
   "metadata": {},
   "outputs": [
    {
     "data": {
      "text/html": [
       "<div>\n",
       "<style scoped>\n",
       "    .dataframe tbody tr th:only-of-type {\n",
       "        vertical-align: middle;\n",
       "    }\n",
       "\n",
       "    .dataframe tbody tr th {\n",
       "        vertical-align: top;\n",
       "    }\n",
       "\n",
       "    .dataframe thead th {\n",
       "        text-align: right;\n",
       "    }\n",
       "</style>\n",
       "<table border=\"1\" class=\"dataframe\">\n",
       "  <thead>\n",
       "    <tr style=\"text-align: right;\">\n",
       "      <th></th>\n",
       "      <th>compound</th>\n",
       "      <th>positive</th>\n",
       "      <th>negative</th>\n",
       "      <th>neutral</th>\n",
       "    </tr>\n",
       "  </thead>\n",
       "  <tbody>\n",
       "    <tr>\n",
       "      <th>count</th>\n",
       "      <td>20.000000</td>\n",
       "      <td>20.000000</td>\n",
       "      <td>20.000000</td>\n",
       "      <td>20.000000</td>\n",
       "    </tr>\n",
       "    <tr>\n",
       "      <th>mean</th>\n",
       "      <td>0.078025</td>\n",
       "      <td>0.082150</td>\n",
       "      <td>0.058250</td>\n",
       "      <td>0.859550</td>\n",
       "    </tr>\n",
       "    <tr>\n",
       "      <th>std</th>\n",
       "      <td>0.435570</td>\n",
       "      <td>0.073902</td>\n",
       "      <td>0.066726</td>\n",
       "      <td>0.096841</td>\n",
       "    </tr>\n",
       "    <tr>\n",
       "      <th>min</th>\n",
       "      <td>-0.690800</td>\n",
       "      <td>0.000000</td>\n",
       "      <td>0.000000</td>\n",
       "      <td>0.557000</td>\n",
       "    </tr>\n",
       "    <tr>\n",
       "      <th>25%</th>\n",
       "      <td>-0.273200</td>\n",
       "      <td>0.000000</td>\n",
       "      <td>0.000000</td>\n",
       "      <td>0.810750</td>\n",
       "    </tr>\n",
       "    <tr>\n",
       "      <th>50%</th>\n",
       "      <td>0.025800</td>\n",
       "      <td>0.081000</td>\n",
       "      <td>0.062000</td>\n",
       "      <td>0.871500</td>\n",
       "    </tr>\n",
       "    <tr>\n",
       "      <th>75%</th>\n",
       "      <td>0.424900</td>\n",
       "      <td>0.143500</td>\n",
       "      <td>0.072750</td>\n",
       "      <td>0.925750</td>\n",
       "    </tr>\n",
       "    <tr>\n",
       "      <th>max</th>\n",
       "      <td>0.750600</td>\n",
       "      <td>0.202000</td>\n",
       "      <td>0.241000</td>\n",
       "      <td>1.000000</td>\n",
       "    </tr>\n",
       "  </tbody>\n",
       "</table>\n",
       "</div>"
      ],
      "text/plain": [
       "        compound   positive   negative    neutral\n",
       "count  20.000000  20.000000  20.000000  20.000000\n",
       "mean    0.078025   0.082150   0.058250   0.859550\n",
       "std     0.435570   0.073902   0.066726   0.096841\n",
       "min    -0.690800   0.000000   0.000000   0.557000\n",
       "25%    -0.273200   0.000000   0.000000   0.810750\n",
       "50%     0.025800   0.081000   0.062000   0.871500\n",
       "75%     0.424900   0.143500   0.072750   0.925750\n",
       "max     0.750600   0.202000   0.241000   1.000000"
      ]
     },
     "execution_count": 17,
     "metadata": {},
     "output_type": "execute_result"
    }
   ],
   "source": [
    "# Describe the Bitcoin Sentiment\n",
    "btc_df.describe()"
   ]
  },
  {
   "cell_type": "code",
   "execution_count": 18,
   "metadata": {},
   "outputs": [
    {
     "data": {
      "text/html": [
       "<div>\n",
       "<style scoped>\n",
       "    .dataframe tbody tr th:only-of-type {\n",
       "        vertical-align: middle;\n",
       "    }\n",
       "\n",
       "    .dataframe tbody tr th {\n",
       "        vertical-align: top;\n",
       "    }\n",
       "\n",
       "    .dataframe thead th {\n",
       "        text-align: right;\n",
       "    }\n",
       "</style>\n",
       "<table border=\"1\" class=\"dataframe\">\n",
       "  <thead>\n",
       "    <tr style=\"text-align: right;\">\n",
       "      <th></th>\n",
       "      <th>compound</th>\n",
       "      <th>positive</th>\n",
       "      <th>negative</th>\n",
       "      <th>neutral</th>\n",
       "    </tr>\n",
       "  </thead>\n",
       "  <tbody>\n",
       "    <tr>\n",
       "      <th>count</th>\n",
       "      <td>20.000000</td>\n",
       "      <td>20.000000</td>\n",
       "      <td>20.000000</td>\n",
       "      <td>20.000000</td>\n",
       "    </tr>\n",
       "    <tr>\n",
       "      <th>mean</th>\n",
       "      <td>-0.059415</td>\n",
       "      <td>0.058600</td>\n",
       "      <td>0.063650</td>\n",
       "      <td>0.877700</td>\n",
       "    </tr>\n",
       "    <tr>\n",
       "      <th>std</th>\n",
       "      <td>0.447982</td>\n",
       "      <td>0.087277</td>\n",
       "      <td>0.069694</td>\n",
       "      <td>0.096972</td>\n",
       "    </tr>\n",
       "    <tr>\n",
       "      <th>min</th>\n",
       "      <td>-0.784500</td>\n",
       "      <td>0.000000</td>\n",
       "      <td>0.000000</td>\n",
       "      <td>0.651000</td>\n",
       "    </tr>\n",
       "    <tr>\n",
       "      <th>25%</th>\n",
       "      <td>-0.278900</td>\n",
       "      <td>0.000000</td>\n",
       "      <td>0.000000</td>\n",
       "      <td>0.824750</td>\n",
       "    </tr>\n",
       "    <tr>\n",
       "      <th>50%</th>\n",
       "      <td>-0.202100</td>\n",
       "      <td>0.023000</td>\n",
       "      <td>0.063000</td>\n",
       "      <td>0.921000</td>\n",
       "    </tr>\n",
       "    <tr>\n",
       "      <th>75%</th>\n",
       "      <td>0.144925</td>\n",
       "      <td>0.079500</td>\n",
       "      <td>0.076250</td>\n",
       "      <td>0.937000</td>\n",
       "    </tr>\n",
       "    <tr>\n",
       "      <th>max</th>\n",
       "      <td>0.932700</td>\n",
       "      <td>0.349000</td>\n",
       "      <td>0.233000</td>\n",
       "      <td>1.000000</td>\n",
       "    </tr>\n",
       "  </tbody>\n",
       "</table>\n",
       "</div>"
      ],
      "text/plain": [
       "        compound   positive   negative    neutral\n",
       "count  20.000000  20.000000  20.000000  20.000000\n",
       "mean   -0.059415   0.058600   0.063650   0.877700\n",
       "std     0.447982   0.087277   0.069694   0.096972\n",
       "min    -0.784500   0.000000   0.000000   0.651000\n",
       "25%    -0.278900   0.000000   0.000000   0.824750\n",
       "50%    -0.202100   0.023000   0.063000   0.921000\n",
       "75%     0.144925   0.079500   0.076250   0.937000\n",
       "max     0.932700   0.349000   0.233000   1.000000"
      ]
     },
     "execution_count": 18,
     "metadata": {},
     "output_type": "execute_result"
    }
   ],
   "source": [
    "# Describe the Ethereum Sentiment\n",
    "eth_df.describe()"
   ]
  },
  {
   "cell_type": "markdown",
   "metadata": {},
   "source": [
    "### Questions:\n",
    "\n",
    "Q: Which coin had the highest mean positive score?\n",
    "\n",
    "A: \n",
    "\n",
    "Q: Which coin had the highest compound score?\n",
    "\n",
    "A: \n",
    "\n",
    "Q. Which coin had the highest positive score?\n",
    "\n",
    "A: "
   ]
  },
  {
   "cell_type": "markdown",
   "metadata": {},
   "source": [
    "---"
   ]
  },
  {
   "cell_type": "markdown",
   "metadata": {},
   "source": [
    "## 2. Natural Language Processing\n",
    "---\n",
    "###   Tokenizer\n",
    "\n",
    "In this section, you will use NLTK and Python to tokenize the text for each coin. Be sure to:\n",
    "1. Lowercase each word.\n",
    "2. Remove Punctuation.\n",
    "3. Remove Stopwords."
   ]
  },
  {
   "cell_type": "code",
   "execution_count": 10,
   "metadata": {},
   "outputs": [],
   "source": [
    "from nltk.tokenize import word_tokenize, sent_tokenize\n",
    "from nltk.corpus import stopwords\n",
    "from nltk.stem import WordNetLemmatizer, PorterStemmer\n",
    "from string import punctuation\n",
    "import re"
   ]
  },
  {
   "cell_type": "code",
   "execution_count": 11,
   "metadata": {},
   "outputs": [],
   "source": [
    "# Instantiate the lemmatizer\n",
    "# YOUR CODE HERE!\n",
    "\n",
    "# Create a list of stopwords\n",
    "# YOUR CODE HERE!\n",
    "\n",
    "# Expand the default stopwords list if necessary\n",
    "# YOUR CODE HERE!"
   ]
  },
  {
   "cell_type": "code",
   "execution_count": 12,
   "metadata": {},
   "outputs": [],
   "source": [
    "# Complete the tokenizer function\n",
    "def tokenizer(text):\n",
    "    \"\"\"Tokenizes text.\"\"\"\n",
    "    \n",
    "    # Remove the punctuation from text\n",
    "\n",
    "   \n",
    "    # Create a tokenized list of the words\n",
    "    \n",
    "    \n",
    "    # Lemmatize words into root words\n",
    "\n",
    "   \n",
    "    # Convert the words to lowercase\n",
    "    \n",
    "    \n",
    "    # Remove the stop words\n",
    "    \n",
    "    \n",
    "    return tokens"
   ]
  },
  {
   "cell_type": "code",
   "execution_count": 13,
   "metadata": {},
   "outputs": [],
   "source": [
    "# Create a new tokens column for Bitcoin\n",
    "# YOUR CODE HERE!"
   ]
  },
  {
   "cell_type": "code",
   "execution_count": 14,
   "metadata": {},
   "outputs": [],
   "source": [
    "# Create a new tokens column for Ethereum\n",
    "# YOUR CODE HERE!"
   ]
  },
  {
   "cell_type": "markdown",
   "metadata": {},
   "source": [
    "---"
   ]
  },
  {
   "cell_type": "markdown",
   "metadata": {},
   "source": [
    "### NGrams and Frequency Analysis\n",
    "\n",
    "In this section you will look at the ngrams and word frequency for each coin. \n",
    "\n",
    "1. Use NLTK to produce the n-grams for N = 2. \n",
    "2. List the top 10 words for each coin. "
   ]
  },
  {
   "cell_type": "code",
   "execution_count": 15,
   "metadata": {},
   "outputs": [],
   "source": [
    "from collections import Counter\n",
    "from nltk import ngrams"
   ]
  },
  {
   "cell_type": "code",
   "execution_count": 16,
   "metadata": {},
   "outputs": [],
   "source": [
    "# Generate the Bitcoin N-grams where N=2\n",
    "# YOUR CODE HERE!"
   ]
  },
  {
   "cell_type": "code",
   "execution_count": 17,
   "metadata": {},
   "outputs": [],
   "source": [
    "# Generate the Ethereum N-grams where N=2\n",
    "# YOUR CODE HERE!"
   ]
  },
  {
   "cell_type": "code",
   "execution_count": 18,
   "metadata": {},
   "outputs": [],
   "source": [
    "# Function token_count generates the top 10 words for a given coin\n",
    "def token_count(tokens, N=3):\n",
    "    \"\"\"Returns the top N tokens from the frequency count\"\"\"\n",
    "    return Counter(tokens).most_common(N)"
   ]
  },
  {
   "cell_type": "code",
   "execution_count": 19,
   "metadata": {},
   "outputs": [],
   "source": [
    "# Use token_count to get the top 10 words for Bitcoin\n",
    "# YOUR CODE HERE!"
   ]
  },
  {
   "cell_type": "code",
   "execution_count": 20,
   "metadata": {},
   "outputs": [],
   "source": [
    "# Use token_count to get the top 10 words for Ethereum\n",
    "# YOUR CODE HERE!"
   ]
  },
  {
   "cell_type": "markdown",
   "metadata": {},
   "source": [
    "---"
   ]
  },
  {
   "cell_type": "markdown",
   "metadata": {},
   "source": [
    "### Word Clouds\n",
    "\n",
    "In this section, you will generate word clouds for each coin to summarize the news for each coin"
   ]
  },
  {
   "cell_type": "code",
   "execution_count": 21,
   "metadata": {},
   "outputs": [],
   "source": [
    "from wordcloud import WordCloud\n",
    "import matplotlib.pyplot as plt\n",
    "plt.style.use('seaborn-whitegrid')\n",
    "import matplotlib as mpl\n",
    "mpl.rcParams['figure.figsize'] = [20.0, 10.0]"
   ]
  },
  {
   "cell_type": "code",
   "execution_count": 22,
   "metadata": {},
   "outputs": [],
   "source": [
    "# Generate the Bitcoin word cloud\n",
    "# YOUR CODE HERE!"
   ]
  },
  {
   "cell_type": "code",
   "execution_count": 23,
   "metadata": {},
   "outputs": [],
   "source": [
    "# Generate the Ethereum word cloud\n",
    "# YOUR CODE HERE!"
   ]
  },
  {
   "cell_type": "markdown",
   "metadata": {},
   "source": [
    "---\n",
    "## 3. Named Entity Recognition\n",
    "\n",
    "In this section, you will build a named entity recognition model for both Bitcoin and Ethereum, then visualize the tags using SpaCy."
   ]
  },
  {
   "cell_type": "code",
   "execution_count": 24,
   "metadata": {},
   "outputs": [],
   "source": [
    "import spacy\n",
    "from spacy import displacy"
   ]
  },
  {
   "cell_type": "code",
   "execution_count": 25,
   "metadata": {},
   "outputs": [],
   "source": [
    "# Download the language model for SpaCy\n",
    "# !python -m spacy download en_core_web_sm"
   ]
  },
  {
   "cell_type": "code",
   "execution_count": 26,
   "metadata": {},
   "outputs": [],
   "source": [
    "# Load the spaCy model\n",
    "nlp = spacy.load('en_core_web_sm')"
   ]
  },
  {
   "cell_type": "markdown",
   "metadata": {},
   "source": [
    "---\n",
    "### Bitcoin NER"
   ]
  },
  {
   "cell_type": "code",
   "execution_count": 27,
   "metadata": {},
   "outputs": [],
   "source": [
    "# Concatenate all of the Bitcoin text together\n",
    "# YOUR CODE HERE!"
   ]
  },
  {
   "cell_type": "code",
   "execution_count": 28,
   "metadata": {},
   "outputs": [],
   "source": [
    "# Run the NER processor on all of the text\n",
    "# YOUR CODE HERE!\n",
    "\n",
    "# Add a title to the document\n",
    "# YOUR CODE HERE!"
   ]
  },
  {
   "cell_type": "code",
   "execution_count": 29,
   "metadata": {},
   "outputs": [],
   "source": [
    "# Render the visualization\n",
    "# YOUR CODE HERE!"
   ]
  },
  {
   "cell_type": "code",
   "execution_count": 30,
   "metadata": {},
   "outputs": [],
   "source": [
    "# List all Entities\n",
    "# YOUR CODE HERE!"
   ]
  },
  {
   "cell_type": "markdown",
   "metadata": {},
   "source": [
    "---"
   ]
  },
  {
   "cell_type": "markdown",
   "metadata": {},
   "source": [
    "### Ethereum NER"
   ]
  },
  {
   "cell_type": "code",
   "execution_count": 31,
   "metadata": {},
   "outputs": [],
   "source": [
    "# Concatenate all of the Ethereum text together\n",
    "# YOUR CODE HERE!"
   ]
  },
  {
   "cell_type": "code",
   "execution_count": 32,
   "metadata": {},
   "outputs": [],
   "source": [
    "# Run the NER processor on all of the text\n",
    "# YOUR CODE HERE!\n",
    "\n",
    "# Add a title to the document\n",
    "# YOUR CODE HERE!"
   ]
  },
  {
   "cell_type": "code",
   "execution_count": 33,
   "metadata": {},
   "outputs": [],
   "source": [
    "# Render the visualization\n",
    "# YOUR CODE HERE!"
   ]
  },
  {
   "cell_type": "code",
   "execution_count": 34,
   "metadata": {},
   "outputs": [],
   "source": [
    "# List all Entities\n",
    "# YOUR CODE HERE!"
   ]
  },
  {
   "cell_type": "markdown",
   "metadata": {},
   "source": [
    "---"
   ]
  }
 ],
 "metadata": {
  "file_extension": ".py",
  "kernelspec": {
   "display_name": "Python 3",
   "language": "python",
   "name": "python3"
  },
  "language_info": {
   "codemirror_mode": {
    "name": "ipython",
    "version": 3
   },
   "file_extension": ".py",
   "mimetype": "text/x-python",
   "name": "python",
   "nbconvert_exporter": "python",
   "pygments_lexer": "ipython3",
   "version": "3.9.7"
  },
  "mimetype": "text/x-python",
  "name": "python",
  "npconvert_exporter": "python",
  "pygments_lexer": "ipython3",
  "version": 3
 },
 "nbformat": 4,
 "nbformat_minor": 4
}
